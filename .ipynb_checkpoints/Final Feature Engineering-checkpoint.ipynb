{
 "cells": [
  {
   "cell_type": "code",
   "execution_count": 1,
   "metadata": {
    "collapsed": true
   },
   "outputs": [],
   "source": [
    "import pandas as pd\n",
    "%matplotlib inline\n",
    "import matplotlib.pyplot as plt\n",
    "import nltk\n",
    "from nltk.stem import PorterStemmer\n",
    "from nltk.corpus import stopwords\n",
    "from nltk.util import ngrams\n",
    "from collections import Counter, defaultdict\n",
    "import seaborn as sns\n",
    "import csv,re,html\n",
    "from textblob import TextBlob\n",
    "import scipy as sp\n",
    "from nltk.tokenize import TweetTokenizer\n",
    "from sklearn.feature_extraction.text import CountVectorizer\n",
    "import numpy as np\n",
    "from scipy.sparse import hstack\n",
    "from sklearn.model_selection import train_test_split\n",
    "\n",
    "pd.set_option('max_colwidth',400)"
   ]
  },
  {
   "cell_type": "markdown",
   "metadata": {},
   "source": [
    "Loading Data"
   ]
  },
  {
   "cell_type": "code",
   "execution_count": 2,
   "metadata": {},
   "outputs": [
    {
     "data": {
      "text/html": [
       "<div>\n",
       "<style scoped>\n",
       "    .dataframe tbody tr th:only-of-type {\n",
       "        vertical-align: middle;\n",
       "    }\n",
       "\n",
       "    .dataframe tbody tr th {\n",
       "        vertical-align: top;\n",
       "    }\n",
       "\n",
       "    .dataframe thead th {\n",
       "        text-align: right;\n",
       "    }\n",
       "</style>\n",
       "<table border=\"1\" class=\"dataframe\">\n",
       "  <thead>\n",
       "    <tr style=\"text-align: right;\">\n",
       "      <th></th>\n",
       "      <th>Text</th>\n",
       "    </tr>\n",
       "  </thead>\n",
       "  <tbody>\n",
       "    <tr>\n",
       "      <th>0</th>\n",
       "      <td>Your still thinking?  Cheer up Buddy )</td>\n",
       "    </tr>\n",
       "    <tr>\n",
       "      <th>1</th>\n",
       "      <td>forecast in sf for friday, may 29: 66 degrees.</td>\n",
       "    </tr>\n",
       "    <tr>\n",
       "      <th>2</th>\n",
       "      <td>driving past Tattered Cover w/o stopping  promising myself to make time next week.</td>\n",
       "    </tr>\n",
       "    <tr>\n",
       "      <th>3</th>\n",
       "      <td>Wowzer! It's very windy. Not good for my allergies!!</td>\n",
       "    </tr>\n",
       "    <tr>\n",
       "      <th>4</th>\n",
       "      <td>Start of diet today  I think I have to face I will never get back down to 77kilos (unless I cut a leg off)ï¿½</td>\n",
       "    </tr>\n",
       "  </tbody>\n",
       "</table>\n",
       "</div>"
      ],
      "text/plain": [
       "                                                                                                            Text\n",
       "0                                                                         Your still thinking?  Cheer up Buddy )\n",
       "1                                                                 forecast in sf for friday, may 29: 66 degrees.\n",
       "2                             driving past Tattered Cover w/o stopping  promising myself to make time next week.\n",
       "3                                                           Wowzer! It's very windy. Not good for my allergies!!\n",
       "4  Start of diet today  I think I have to face I will never get back down to 77kilos (unless I cut a leg off)ï¿½"
      ]
     },
     "execution_count": 2,
     "metadata": {},
     "output_type": "execute_result"
    }
   ],
   "source": [
    "df = pd.read_csv('train.dat',sep='\\t', encoding=\"utf-8-sig\")\n",
    "test_file = open('test.dat', 'r')\n",
    "lines = test_file.readlines()\n",
    "tf = pd.DataFrame(lines, columns=['Text'])\n",
    "tf.Text = tf.Text.str.strip('\\n')\n",
    "tf.head()"
   ]
  },
  {
   "cell_type": "markdown",
   "metadata": {},
   "source": [
    "Basic Reading"
   ]
  },
  {
   "cell_type": "code",
   "execution_count": 3,
   "metadata": {},
   "outputs": [
    {
     "data": {
      "text/plain": [
       "sentiment\n",
       "1     4257\n",
       "2     7006\n",
       "3     7134\n",
       "4     3141\n",
       "5       96\n",
       "6      617\n",
       "7     1759\n",
       "8     1458\n",
       "9     1072\n",
       "10    4311\n",
       "11     149\n",
       "dtype: int64"
      ]
     },
     "execution_count": 3,
     "metadata": {},
     "output_type": "execute_result"
    }
   ],
   "source": [
    "df.groupby('sentiment').size()"
   ]
  },
  {
   "cell_type": "code",
   "execution_count": 4,
   "metadata": {},
   "outputs": [
    {
     "data": {
      "text/plain": [
       "<matplotlib.axes._subplots.AxesSubplot at 0x1a1c5e22e8>"
      ]
     },
     "execution_count": 4,
     "metadata": {},
     "output_type": "execute_result"
    },
    {
     "data": {
      "image/png": "[encoded data removed]",
      "text/plain": [
       "<Figure size 432x288 with 1 Axes>"
      ]
     },
     "metadata": {},
     "output_type": "display_data"
    }
   ],
   "source": [
    "df['sentiment'].plot(kind='hist')"
   ]
  },
  {
   "cell_type": "code",
   "execution_count": 5,
   "metadata": {},
   "outputs": [
    {
     "name": "stdout",
     "output_type": "stream",
     "text": [
      "print basic info of data\n",
      "<class 'pandas.core.frame.DataFrame'>\n",
      "RangeIndex: 31000 entries, 0 to 30999\n",
      "Data columns (total 2 columns):\n",
      "sentiment    31000 non-null int64\n",
      "Text         30997 non-null object\n",
      "dtypes: int64(1), object(1)\n",
      "memory usage: 484.5+ KB\n",
      "None\n",
      "          sentiment\n",
      "count  31000.000000\n",
      "mean       4.348097\n",
      "std        3.114712\n",
      "min        1.000000\n",
      "25%        2.000000\n",
      "50%        3.000000\n",
      "75%        7.000000\n",
      "max       11.000000\n"
     ]
    }
   ],
   "source": [
    "print('print basic info of data')\n",
    "print(df.info())\n",
    "print(df.describe())"
   ]
  },
  {
   "cell_type": "markdown",
   "metadata": {},
   "source": [
    "# Scrubbing Data"
   ]
  },
  {
   "cell_type": "markdown",
   "metadata": {},
   "source": [
    "Scrubbing the data with the following transformations:  \n",
    "1. Removing NANs  \n",
    "2. Removing unicode chars\n",
    "3. HTML decode\n",
    "4. Replacing URLs\n",
    "5. Removing Numbers\n",
    "6. Replace contractions to their full version like won't to will not etc."
   ]
  },
  {
   "cell_type": "markdown",
   "metadata": {},
   "source": [
    "### 1. Removing NANs"
   ]
  },
  {
   "cell_type": "code",
   "execution_count": 6,
   "metadata": {},
   "outputs": [
    {
     "data": {
      "text/plain": [
       "True"
      ]
     },
     "execution_count": 6,
     "metadata": {},
     "output_type": "execute_result"
    }
   ],
   "source": [
    "df.isnull().any().any()"
   ]
  },
  {
   "cell_type": "code",
   "execution_count": 7,
   "metadata": {},
   "outputs": [
    {
     "data": {
      "text/plain": [
       "3"
      ]
     },
     "execution_count": 7,
     "metadata": {},
     "output_type": "execute_result"
    }
   ],
   "source": [
    "df.isnull().sum().sum()"
   ]
  },
  {
   "cell_type": "code",
   "execution_count": 8,
   "metadata": {},
   "outputs": [
    {
     "data": {
      "text/plain": [
       "(31000, 2)"
      ]
     },
     "execution_count": 8,
     "metadata": {},
     "output_type": "execute_result"
    }
   ],
   "source": [
    "df.shape"
   ]
  },
  {
   "cell_type": "code",
   "execution_count": 9,
   "metadata": {
    "collapsed": true
   },
   "outputs": [],
   "source": [
    "df =df.dropna()"
   ]
  },
  {
   "cell_type": "code",
   "execution_count": 10,
   "metadata": {},
   "outputs": [
    {
     "data": {
      "text/plain": [
       "(30997, 2)"
      ]
     },
     "execution_count": 10,
     "metadata": {},
     "output_type": "execute_result"
    }
   ],
   "source": [
    "df.shape"
   ]
  },
  {
   "cell_type": "markdown",
   "metadata": {},
   "source": [
    "### 2. Removing Unicode Chars"
   ]
  },
  {
   "cell_type": "code",
   "execution_count": 11,
   "metadata": {
    "collapsed": true
   },
   "outputs": [],
   "source": [
    "def removeUnicode(text):\n",
    "    text = re.sub(r'(\\\\u[0-9A-Fa-f]+)',r'', text)       \n",
    "    text = re.sub(r'[^\\x00-\\x7f]',r'',text)\n",
    "    return text"
   ]
  },
  {
   "cell_type": "code",
   "execution_count": 12,
   "metadata": {
    "collapsed": true
   },
   "outputs": [],
   "source": [
    "df['Text'] = df['Text'].apply(lambda x: removeUnicode(x))\n",
    "tf['Text'] = tf['Text'].apply(lambda x: removeUnicode(x))"
   ]
  },
  {
   "cell_type": "markdown",
   "metadata": {},
   "source": [
    "### 3. HTML decode"
   ]
  },
  {
   "cell_type": "code",
   "execution_count": 13,
   "metadata": {
    "collapsed": true
   },
   "outputs": [],
   "source": [
    "df['Text'] = df['Text'].apply(lambda x: html.unescape(x))\n",
    "tf['Text'] = tf['Text'].apply(lambda x: html.unescape(x))"
   ]
  },
  {
   "cell_type": "markdown",
   "metadata": {},
   "source": [
    "### 4. Replacing URLs"
   ]
  },
  {
   "cell_type": "code",
   "execution_count": 14,
   "metadata": {
    "collapsed": true
   },
   "outputs": [],
   "source": [
    "def replaceURL(text):\n",
    "    text = re.sub('((www\\.[^\\s]+)|(https?://[^\\s]+))','url',text)\n",
    "    text = re.sub(r'#([^\\s]+)', r'\\1', text)\n",
    "    return text"
   ]
  },
  {
   "cell_type": "code",
   "execution_count": 15,
   "metadata": {
    "collapsed": true
   },
   "outputs": [],
   "source": [
    "df['Text'] = df['Text'].apply(lambda x: replaceURL(x))\n",
    "tf['Text'] = tf['Text'].apply(lambda x: replaceURL(x))"
   ]
  },
  {
   "cell_type": "markdown",
   "metadata": {},
   "source": [
    "### 5 . Removing Numbers"
   ]
  },
  {
   "cell_type": "code",
   "execution_count": 16,
   "metadata": {
    "collapsed": true
   },
   "outputs": [],
   "source": [
    "def removeNumbers(text):\n",
    "    text = ''.join([i for i in text if not i.isdigit()])         \n",
    "    return text"
   ]
  },
  {
   "cell_type": "code",
   "execution_count": 17,
   "metadata": {
    "collapsed": true
   },
   "outputs": [],
   "source": [
    "df['Text'] = df['Text'].apply(lambda x: removeNumbers(x))\n",
    "tf['Text'] = tf['Text'].apply(lambda x: removeNumbers(x))"
   ]
  },
  {
   "cell_type": "markdown",
   "metadata": {},
   "source": [
    "### 6. Replace contractions to their full version"
   ]
  },
  {
   "cell_type": "code",
   "execution_count": 18,
   "metadata": {
    "collapsed": true
   },
   "outputs": [],
   "source": [
    "contraction_patterns = [ (r'won\\'t', 'will not'), (r'can\\'t', 'cannot'), (r'i\\'m', 'i am'), (r'ain\\'t', 'is not'), (r'(\\w+)\\'ll', '\\g<1> will'), (r'(\\w+)n\\'t', '\\g<1> not'),\n",
    "                         (r'(\\w+)\\'ve', '\\g<1> have'), (r'(\\w+)\\'s', '\\g<1> is'), (r'(\\w+)\\'re', '\\g<1> are'), (r'(\\w+)\\'d', '\\g<1> would'), (r'&', 'and'), \n",
    "                        (r'dammit', 'damn it'), (r'dont', 'do not'), (r'wont', 'will not'), (r'im', 'i am') ]\n",
    "def replaceContraction(text):\n",
    "    patterns = [(re.compile(regex), repl) for (regex, repl) in contraction_patterns]\n",
    "    for (pattern, repl) in patterns:\n",
    "        (text, count) = re.subn(pattern, repl, text)\n",
    "    return text\n"
   ]
  },
  {
   "cell_type": "code",
   "execution_count": 19,
   "metadata": {
    "collapsed": true
   },
   "outputs": [],
   "source": [
    "df['Text'] = df['Text'].apply(lambda x: replaceContraction(x))\n",
    "tf['Text'] = tf['Text'].apply(lambda x: replaceContraction(x))"
   ]
  },
  {
   "cell_type": "code",
   "execution_count": 20,
   "metadata": {},
   "outputs": [
    {
     "data": {
      "text/plain": [
       "'\"hi'"
      ]
     },
     "execution_count": 20,
     "metadata": {},
     "output_type": "execute_result"
    }
   ],
   "source": [
    "html.unescape('&quot;hi')"
   ]
  },
  {
   "cell_type": "code",
   "execution_count": 21,
   "metadata": {},
   "outputs": [
    {
     "data": {
      "text/html": [
       "<div>\n",
       "<style scoped>\n",
       "    .dataframe tbody tr th:only-of-type {\n",
       "        vertical-align: middle;\n",
       "    }\n",
       "\n",
       "    .dataframe tbody tr th {\n",
       "        vertical-align: top;\n",
       "    }\n",
       "\n",
       "    .dataframe thead th {\n",
       "        text-align: right;\n",
       "    }\n",
       "</style>\n",
       "<table border=\"1\" class=\"dataframe\">\n",
       "  <thead>\n",
       "    <tr style=\"text-align: right;\">\n",
       "      <th></th>\n",
       "      <th>sentiment</th>\n",
       "      <th>Text</th>\n",
       "    </tr>\n",
       "  </thead>\n",
       "  <tbody>\n",
       "    <tr>\n",
       "      <th>0</th>\n",
       "      <td>2</td>\n",
       "      <td>she had another song out recently but it did not get that much play</td>\n",
       "    </tr>\n",
       "    <tr>\n",
       "      <th>1</th>\n",
       "      <td>2</td>\n",
       "      <td>wellity! i think i ama gonna clean my room :| Gay. i need to read a good book. sense and sensibility here we come! BEAT THE LILY</td>\n",
       "    </tr>\n",
       "    <tr>\n",
       "      <th>2</th>\n",
       "      <td>2</td>\n",
       "      <td>Bug in damn cod system link. My map pack isnt working</td>\n",
       "    </tr>\n",
       "    <tr>\n",
       "      <th>3</th>\n",
       "      <td>8</td>\n",
       "      <td>weeooow, i feel fat.... i remember when i used to weigh that much  pfffffffffffffffffffffftttttttt long ti ame ago, hahaha</td>\n",
       "    </tr>\n",
       "    <tr>\n",
       "      <th>4</th>\n",
       "      <td>7</td>\n",
       "      <td>mmmm now you are speaking my language! (Unfortunately, in militant diet mode-am seriously thinking of  competiton-so no TB I guess</td>\n",
       "    </tr>\n",
       "  </tbody>\n",
       "</table>\n",
       "</div>"
      ],
      "text/plain": [
       "   sentiment  \\\n",
       "0          2   \n",
       "1          2   \n",
       "2          2   \n",
       "3          8   \n",
       "4          7   \n",
       "\n",
       "                                                                                                                                 Text  \n",
       "0                                                                 she had another song out recently but it did not get that much play  \n",
       "1    wellity! i think i ama gonna clean my room :| Gay. i need to read a good book. sense and sensibility here we come! BEAT THE LILY  \n",
       "2                                                                               Bug in damn cod system link. My map pack isnt working  \n",
       "3          weeooow, i feel fat.... i remember when i used to weigh that much  pfffffffffffffffffffffftttttttt long ti ame ago, hahaha  \n",
       "4  mmmm now you are speaking my language! (Unfortunately, in militant diet mode-am seriously thinking of  competiton-so no TB I guess  "
      ]
     },
     "execution_count": 21,
     "metadata": {},
     "output_type": "execute_result"
    }
   ],
   "source": [
    "df.head()"
   ]
  },
  {
   "cell_type": "code",
   "execution_count": 22,
   "metadata": {},
   "outputs": [
    {
     "data": {
      "text/html": [
       "<div>\n",
       "<style scoped>\n",
       "    .dataframe tbody tr th:only-of-type {\n",
       "        vertical-align: middle;\n",
       "    }\n",
       "\n",
       "    .dataframe tbody tr th {\n",
       "        vertical-align: top;\n",
       "    }\n",
       "\n",
       "    .dataframe thead th {\n",
       "        text-align: right;\n",
       "    }\n",
       "</style>\n",
       "<table border=\"1\" class=\"dataframe\">\n",
       "  <thead>\n",
       "    <tr style=\"text-align: right;\">\n",
       "      <th></th>\n",
       "      <th>Text</th>\n",
       "    </tr>\n",
       "  </thead>\n",
       "  <tbody>\n",
       "    <tr>\n",
       "      <th>0</th>\n",
       "      <td>Your still thinking?  Cheer up Buddy )</td>\n",
       "    </tr>\n",
       "    <tr>\n",
       "      <th>1</th>\n",
       "      <td>forecast in sf for friday, may :  degrees.</td>\n",
       "    </tr>\n",
       "    <tr>\n",
       "      <th>2</th>\n",
       "      <td>driving past Tattered Cover w/o stopping  promising myself to make ti ame next week.</td>\n",
       "    </tr>\n",
       "    <tr>\n",
       "      <th>3</th>\n",
       "      <td>Wowzer! It is very windy. Not good for my allergies!!</td>\n",
       "    </tr>\n",
       "    <tr>\n",
       "      <th>4</th>\n",
       "      <td>Start of diet today  I think I have to face I will never get back down to kilos (unless I cut a leg off)</td>\n",
       "    </tr>\n",
       "  </tbody>\n",
       "</table>\n",
       "</div>"
      ],
      "text/plain": [
       "                                                                                                       Text\n",
       "0                                                                    Your still thinking?  Cheer up Buddy )\n",
       "1                                                                forecast in sf for friday, may :  degrees.\n",
       "2                      driving past Tattered Cover w/o stopping  promising myself to make ti ame next week.\n",
       "3                                                     Wowzer! It is very windy. Not good for my allergies!!\n",
       "4  Start of diet today  I think I have to face I will never get back down to kilos (unless I cut a leg off)"
      ]
     },
     "execution_count": 22,
     "metadata": {},
     "output_type": "execute_result"
    }
   ],
   "source": [
    "tf.head()"
   ]
  },
  {
   "cell_type": "code",
   "execution_count": 23,
   "metadata": {},
   "outputs": [
    {
     "name": "stdout",
     "output_type": "stream",
     "text": [
      "(30997, 2)\n",
      "(6576, 1)\n"
     ]
    }
   ],
   "source": [
    "print(df.shape)\n",
    "print(tf.shape)"
   ]
  },
  {
   "cell_type": "markdown",
   "metadata": {},
   "source": [
    "# Exploring Data"
   ]
  },
  {
   "cell_type": "markdown",
   "metadata": {},
   "source": [
    "### Removing Stop Words"
   ]
  },
  {
   "cell_type": "code",
   "execution_count": 24,
   "metadata": {
    "collapsed": true
   },
   "outputs": [],
   "source": [
    "def removeStopWords(df):\n",
    "    top_N=50\n",
    "    stop = stopwords.words('english')\n",
    "    df['Text'] = df['Text'].apply(lambda x: ' '.join([word for word in x.split() if word not in (stop)]))\n",
    "    print(df['Text'].head())\n"
   ]
  },
  {
   "cell_type": "markdown",
   "metadata": {},
   "source": [
    "### Top words used in text corpus"
   ]
  },
  {
   "cell_type": "code",
   "execution_count": 25,
   "metadata": {
    "collapsed": true
   },
   "outputs": [],
   "source": [
    "top_N=50"
   ]
  },
  {
   "cell_type": "code",
   "execution_count": 26,
   "metadata": {
    "collapsed": true
   },
   "outputs": [],
   "source": [
    "words = df['Text'].str.lower().str.cat(sep=' ').split()"
   ]
  },
  {
   "cell_type": "code",
   "execution_count": 27,
   "metadata": {
    "collapsed": true
   },
   "outputs": [],
   "source": [
    "rslt = pd.DataFrame(Counter(words).most_common(top_N),\n",
    "                    columns=['Word', 'Frequency']).set_index('Word')"
   ]
  },
  {
   "cell_type": "code",
   "execution_count": 28,
   "metadata": {
    "collapsed": true
   },
   "outputs": [],
   "source": [
    "rslt = rslt.iloc[1:]"
   ]
  },
  {
   "cell_type": "code",
   "execution_count": 29,
   "metadata": {},
   "outputs": [
    {
     "data": {
      "image/png": "[encoded data removed]",
      "text/plain": [
       "<Figure size 2160x1440 with 1 Axes>"
      ]
     },
     "metadata": {},
     "output_type": "display_data"
    }
   ],
   "source": [
    "sns.set_style(\"darkgrid\")\n",
    "plt.rcParams[\"figure.figsize\"] = [30.0, 20.0]\n",
    "ax = sns.barplot(y=rslt.index, x='Frequency', data=rslt)\n",
    "ax.set_xlabel(\"Frequency\",fontsize=20)\n",
    "ax.set_ylabel(\"Words\",fontsize=20)\n",
    "ax.tick_params(labelsize=30)"
   ]
  },
  {
   "cell_type": "markdown",
   "metadata": {},
   "source": [
    "### Replace abbreviations and correct spellings"
   ]
  },
  {
   "cell_type": "code",
   "execution_count": 30,
   "metadata": {},
   "outputs": [
    {
     "data": {
      "text/plain": [
       "1161192"
      ]
     },
     "execution_count": 30,
     "metadata": {},
     "output_type": "execute_result"
    }
   ],
   "source": [
    "from nltk.corpus import brown\n",
    "word_list = brown.words()\n",
    "len(word_list)\n",
    "\n"
   ]
  },
  {
   "cell_type": "code",
   "execution_count": 31,
   "metadata": {},
   "outputs": [
    {
     "data": {
      "text/plain": [
       "False"
      ]
     },
     "execution_count": 31,
     "metadata": {},
     "output_type": "execute_result"
    }
   ],
   "source": [
    "word_set = set(word_list)\n",
    "\"lookeed\" in word_set"
   ]
  },
  {
   "cell_type": "markdown",
   "metadata": {},
   "source": [
    "### Removing Punctuation"
   ]
  },
  {
   "cell_type": "code",
   "execution_count": 32,
   "metadata": {},
   "outputs": [
    {
     "data": {
      "text/plain": [
       "0                                                                               she had another song out recently but it did not get that much play\n",
       "1                        wellity i think i ama gonna clean my room  Gay i need to read a good book sense and sensibility here we come BEAT THE LILY\n",
       "2                                                                                              Bug in damn cod system link My map pack isnt working\n",
       "3                              weeooow i feel fat i remember when i used to weigh that much  pfffffffffffffffffffffftttttttt long ti ame ago hahaha\n",
       "4                     mmmm now you are speaking my language Unfortunately in militant diet modeam seriously thinking of  competitonso no TB I guess\n",
       "5                                                                                                                             Really I feel special\n",
       "6                                                                                                              do not you procrastinate   like I do\n",
       "7                                                                                Ive been wanting  but will be gone   mo and have to close my shops\n",
       "8                                                                                                 Sushi two nights in a row is not THAT wrong is it\n",
       "9                                                                                                          haha i get my senior license next friday\n",
       "10                                                                            UMMMNNN ummmnnn good thanks for letting me know earlier I ate already\n",
       "11                                                                                                                          Nobody is up this early\n",
       "12                                                                              Ca not stop coughing feel like I might have bronchitis again no fun\n",
       "13                         I also have to make space on my computer for the game I do not meet the mini amum requirements for Si ams  at the moment\n",
       "14                                  argtried one pic but she moved so i failed to save itthen they never showed her feet again  but they were purty\n",
       "15                  Migraining todaythe naproxen sodium tablets I took are helping a little but my neck is now killing me  Need my muscle relaxants\n",
       "16                      Storysize is  and it is posted as a short story not one liner but does not show up in any news friends can see Only in wall\n",
       "17                                                                                                                    Looks like my Twitter is down\n",
       "18                                               Oh yeah the camera clipping problems with Void are now completely fixed  yay me for fiddling about\n",
       "19                                             Being in Vegas with donniewahlberg would be so much better then home This has been the day from hell\n",
       "20                           heylo johnn  i am a huge fan hope ur day is awesomee cuzz i am home sick and its kinda less than awesome anyways PEACE\n",
       "21                                                                                                                is coming back to Ruston tomorrow\n",
       "22                                                                                                    I caaaaa not sleepit is am wahhhh i wanna cry\n",
       "23                            Just found out I have to leave my lovely flat And been waiting  hours for a plumber Still no job news  Not a good day\n",
       "24                                ACK Ghost Whisperer is not on   Damn network is lucky they gave me Walk The Line in place of itfckas JP is hawt  \n",
       "25                                                         haha happened to me a lot of ti ames Know the feeling Happy mums day to ur mom too delle\n",
       "26                                                                               its not fruit its those sugar covered sweets My tummy is not happy\n",
       "27                                      Poor Jon I feel for you dude   Eat some chocolate that will make you feel better oh and some ice cream  YUM\n",
       "28                                              Hearing a surprising news about my bestfriendwhere are you sis  You have to tell me the whole story\n",
       "29       Created a new album on my Facebook for my Phantom cross stitch  I want to track my own progress so I feel like I am getting something done\n",
       "                                                                            ...                                                                    \n",
       "30970                                                                                                                           i miss music on mtv\n",
       "30971                                                                   Jenn jenn jenn oh why oh why will not u pass on ur iTunes knowledge onto me\n",
       "30972                                                                       Make her something Buying something is too i ampersonal She is your mom\n",
       "30973                                                                                                                            Such a pretty baby\n",
       "30974                                                                             Oh poor thing  Hope it is easily sorted out and not too expensive\n",
       "30975                                                                                   She must have a very adwancrd sense of humor  That is funny\n",
       "30976                                                                                           is taking Ethan and Ryder to playgroup this morning\n",
       "30977                                                                                                             sooo long twitters Im off to Cuba\n",
       "30978                                                                                                                         oh that was good cake\n",
       "30979                                                                                                 that is my idea of good dinner  happy munchin\n",
       "30980                                                                                                      well thats not nice hope ur all good now\n",
       "30981                                                                                             Seeing my brother graduate tomorrow Should be fun\n",
       "30982                       shack idol today cannot wait it is gonna be funnn poor cameron he fell ON A BAR in speech today i felt so bad for hi am\n",
       "30983                                                         nice recolouring of your page  nobody is buying your antitwittering words YOU LOVE IT\n",
       "30984                                                                                                                      thank you yes yes hooray\n",
       "30985                                                                                   Ha J perfect ti aming on that message the cure just came on\n",
       "30986                                                                                                                my knees are sore after physio\n",
       "30987                                                                                                                                       awesome\n",
       "30988                                                                                                                        Off the road this week\n",
       "30989                                                                                                                           happy mother is day\n",
       "30990                                                                                          Is one bar two of the pub crawl Gonn be a long night\n",
       "30991                                                                                            I would like to be able to go just to ONE of those\n",
       "30992                                                                                                             It is freakin hot and humid today\n",
       "30993                                                                                           I know how you feel  Have a lovely relaxing weekend\n",
       "30994                                                                                                         Good show sleepyti ame Goodnight moon\n",
       "30995                                                                                                                            Rainy day is rainy\n",
       "30996                                                                                                                       what was it I missed it\n",
       "30997                      If the drive is automatically ejecting supported discs ie CDR and you cannot boot from a disc it is ti ame for AppleCare\n",
       "30998                                                                                                             mmmm looks so yummy good seeing u\n",
       "30999                                                                                                                                  Flicitations\n",
       "Name: Text, Length: 30997, dtype: object"
      ]
     },
     "execution_count": 32,
     "metadata": {},
     "output_type": "execute_result"
    }
   ],
   "source": [
    "df['Text'].str.replace('[^\\w\\s]','')"
   ]
  },
  {
   "cell_type": "markdown",
   "metadata": {},
   "source": [
    "### Commonly occouring words"
   ]
  },
  {
   "cell_type": "code",
   "execution_count": 33,
   "metadata": {
    "collapsed": true
   },
   "outputs": [],
   "source": [
    "freq = pd.Series(' '.join(df['Text']).split()).value_counts()[:10]"
   ]
  },
  {
   "cell_type": "code",
   "execution_count": 34,
   "metadata": {},
   "outputs": [
    {
     "data": {
      "text/plain": [
       "to     10917\n",
       "I      10700\n",
       "the     9336\n",
       "is      7991\n",
       "a       7173\n",
       "i       6630\n",
       "and     5982\n",
       "my      5556\n",
       "not     4766\n",
       "you     4748\n",
       "dtype: int64"
      ]
     },
     "execution_count": 34,
     "metadata": {},
     "output_type": "execute_result"
    }
   ],
   "source": [
    "freq"
   ]
  },
  {
   "cell_type": "code",
   "execution_count": 35,
   "metadata": {
    "collapsed": true
   },
   "outputs": [],
   "source": [
    "freq = list(freq.index)"
   ]
  },
  {
   "cell_type": "code",
   "execution_count": 36,
   "metadata": {},
   "outputs": [
    {
     "data": {
      "text/plain": [
       "['to', 'I', 'the', 'is', 'a', 'i', 'and', 'my', 'not', 'you']"
      ]
     },
     "execution_count": 36,
     "metadata": {},
     "output_type": "execute_result"
    }
   ],
   "source": [
    "freq"
   ]
  },
  {
   "cell_type": "code",
   "execution_count": 37,
   "metadata": {},
   "outputs": [
    {
     "data": {
      "text/plain": [
       "0                                                                 she had another song out recently but it did get that much play\n",
       "1                  wellity! think ama gonna clean room :| Gay. need read good book. sense sensibility here we come! BEAT THE LILY\n",
       "2                                                                           Bug in damn cod system link. My map pack isnt working\n",
       "3                weeooow, feel fat.... remember when used weigh that much pfffffffffffffffffffffftttttttt long ti ame ago, hahaha\n",
       "4        mmmm now are speaking language! (Unfortunately, in militant diet mode-am seriously thinking of competiton-so no TB guess\n",
       "5                                                                                                           Really?? feel special\n",
       "6                                                                                                  do procrastinate! (like do...)\n",
       "7                                                                         Ive been wanting but will be gone mo. have close shops!\n",
       "8                                                                                          Sushi two nights in row THAT wrong it?\n",
       "9                                                                                         haha get senior license next friday!!!!\n",
       "10                                                         UMMMNNN ummmnnn good thanks for letting me know earlier... ate already\n",
       "11                                                                                                           Nobody up this early\n",
       "12                                                                Ca stop coughing, feel like might have bronchitis again, no fun\n",
       "13                                 also have make space on computer for game. do meet mini amum requirements for Si ams at moment\n",
       "14               arg..tried one pic, but she moved so failed save it...then they never showed her feet again but they were purty!\n",
       "15           Migraining today--the naproxen sodium tablets took are helping little but neck now killing me. Need muscle relaxants\n",
       "16                Storysize (and it posted as short story, one liner), but does show up in any news friends can see. Only in wall\n",
       "17                                                                                                        Looks like Twitter down\n",
       "18                                  Oh yeah camera clipping problems with Void are now completely fixed yay me for fiddling about\n",
       "19                          Being in Vegas with @donniewahlberg would be so much better then home!! This has been day from hell!!\n",
       "20              heylo johnn (: am huge fan. hope ur day awesomee. cuzz am home sick its kinda less than awesome.. anyways.. PEACE\n",
       "21                                                                                                    coming back Ruston tomorrow\n",
       "22                                                                                   caaaaa sleep.....it .am! wahhhh... wanna cry\n",
       "23                  Just found out have leave lovely flat!! And been waiting . hours for plumber. Still no job news. Not good day\n",
       "24                    ACK! Ghost Whisperer on! Damn network lucky they gave me Walk The Line in place of it...f*ckas. JP hawt. :)\n",
       "25                                                haha, happened me lot of ti ames. Know feeling. Happy mums day ur mom too delle\n",
       "26                                                                      its fruit, its those sugar covered sweets. My tummy happy\n",
       "27                             Poor Jon, feel for dude Eat some chocolate, that will make feel better, oh some ice cream - YUM!!!\n",
       "28                                        Hearing surprising news about bestfriend...where are sis ? You have tell me whole story\n",
       "29          Created new album on Facebook for Phantom cross stitch want track own progress so feel like am getting something done\n",
       "                                                                   ...                                                           \n",
       "30970                                                                                                          miss music on mtv!\n",
       "30971                                                    Jenn jenn jenn oh why oh why will u pass on ur iTunes knowledge onto me?\n",
       "30972                                                          Make her something. Buying something too ampersonal. She your mom!\n",
       "30973                                                                                                         - Such pretty baby!\n",
       "30974                                                               Oh poor thing Hope it easily sorted out. (and too expensive!)\n",
       "30975                                                                      She must have very adwancrd sense of humor! That funny\n",
       "30976                                                                                   taking Ethan Ryder playgroup this morning\n",
       "30977                                                                                            sooo long twitters! I'm off Cuba\n",
       "30978                                                                                                       oh that was good cake\n",
       "30979                                                                                      that idea of good dinner happy munchin\n",
       "30980                                                                                     well thats nice... hope ur all good now\n",
       "30981                                                                            Seeing brother graduate tomorrow. Should be fun.\n",
       "30982     shack idol today(: cannot wait. it gonna be funnn poor cameron. he fell ON A BAR in speech today. felt so bad for hi am\n",
       "30983                                    nice recolouring of your page nobody buying your anti-twittering words!! YOU LOVE IT!!!!\n",
       "30984                                                                                                 thank you. yes yes. hooray!\n",
       "30985                                                                   Ha. J perfect ti aming on that message, cure just came on\n",
       "30986                                                                                                 knees are sore after physio\n",
       "30987                                                                                                                  - awesome.\n",
       "30988                                                                                                          Off road this week\n",
       "30989                                                                                                            happy mother day\n",
       "30990                                                                           Is one bar two of pub crawl... Gonn be long night\n",
       "30991                                                                                     would like be able go just ONE of those\n",
       "30992                                                                                                It freakin' hot humid today.\n",
       "30993                                                                                 know how feel Have lovely relaxing weekend!\n",
       "30994                                                                                     Good show, sleepyti ame. Goodnight moon\n",
       "30995                                                                                                            Rainy day rainy.\n",
       "30996                                                                                                     what was it? missed it.\n",
       "30997                   If drive automatically ejecting supported discs (ie CD-R), cannot boot from disc, it ti ame for AppleCare\n",
       "30998                                                                                       mmmm... looks so yummy! good seeing u\n",
       "30999                                                                                                               Flicitations!\n",
       "Name: Text, Length: 30997, dtype: object"
      ]
     },
     "execution_count": 37,
     "metadata": {},
     "output_type": "execute_result"
    }
   ],
   "source": [
    "df['Text'].apply(lambda x: \" \".join(x for x in x.split() if x not in freq))"
   ]
  },
  {
   "cell_type": "markdown",
   "metadata": {},
   "source": [
    "### Removing rare words"
   ]
  },
  {
   "cell_type": "code",
   "execution_count": 38,
   "metadata": {
    "collapsed": true
   },
   "outputs": [],
   "source": [
    "freq = pd.Series(' '.join(df['Text']).split()).value_counts()[-10:]"
   ]
  },
  {
   "cell_type": "code",
   "execution_count": 39,
   "metadata": {},
   "outputs": [
    {
     "data": {
      "text/plain": [
       "rels           1\n",
       "joyride        1\n",
       "hernandez      1\n",
       "technology,    1\n",
       "crowds         1\n",
       "G'nitey,       1\n",
       "Montagues      1\n",
       "*~xoxo~*       1\n",
       "SXSW           1\n",
       "paycheck!      1\n",
       "dtype: int64"
      ]
     },
     "execution_count": 39,
     "metadata": {},
     "output_type": "execute_result"
    }
   ],
   "source": [
    "freq.head(10)"
   ]
  },
  {
   "cell_type": "code",
   "execution_count": 40,
   "metadata": {
    "collapsed": true
   },
   "outputs": [],
   "source": [
    "freq = list(freq.index)"
   ]
  },
  {
   "cell_type": "code",
   "execution_count": 41,
   "metadata": {},
   "outputs": [
    {
     "data": {
      "text/plain": [
       "['rels',\n",
       " 'joyride',\n",
       " 'hernandez',\n",
       " 'technology,',\n",
       " 'crowds',\n",
       " \"G'nitey,\",\n",
       " 'Montagues',\n",
       " '*~xoxo~*',\n",
       " 'SXSW',\n",
       " 'paycheck!']"
      ]
     },
     "execution_count": 41,
     "metadata": {},
     "output_type": "execute_result"
    }
   ],
   "source": [
    "freq"
   ]
  },
  {
   "cell_type": "code",
   "execution_count": 42,
   "metadata": {},
   "outputs": [
    {
     "data": {
      "text/plain": [
       "0                                                                              she had another song out recently but it did not get that much play\n",
       "1                 wellity! i think i ama gonna clean my room :| Gay. i need to read a good book. sense and sensibility here we come! BEAT THE LILY\n",
       "2                                                                                            Bug in damn cod system link. My map pack isnt working\n",
       "3                        weeooow, i feel fat.... i remember when i used to weigh that much pfffffffffffffffffffffftttttttt long ti ame ago, hahaha\n",
       "4                mmmm now you are speaking my language! (Unfortunately, in militant diet mode-am seriously thinking of competiton-so no TB I guess\n",
       "5                                                                                                                          Really?? I feel special\n",
       "6                                                                                                         do not you procrastinate! (like I do...)\n",
       "7                                                                                Ive been wanting but will be gone mo. and have to close my shops!\n",
       "8                                                                                               Sushi two nights in a row is not THAT wrong is it?\n",
       "9                                                                                                     haha i get my senior license next friday!!!!\n",
       "10                                                                        UMMMNNN ummmnnn good thanks for letting me know earlier... I ate already\n",
       "11                                                                                                                         Nobody is up this early\n",
       "12                                                                           Ca not stop coughing, feel like I might have bronchitis again, no fun\n",
       "13                        I also have to make space on my computer for the game. I do not meet the mini amum requirements for Si ams at the moment\n",
       "14                           arg..tried one pic, but she moved so i failed to save it...then they never showed her feet again but they were purty!\n",
       "15               Migraining today--the naproxen sodium tablets I took are helping a little but my neck is now killing me. Need my muscle relaxants\n",
       "16                 Storysize is (and it is posted as a short story, not one liner), but does not show up in any news friends can see. Only in wall\n",
       "17                                                                                                                   Looks like my Twitter is down\n",
       "18                                               Oh yeah the camera clipping problems with Void are now completely fixed yay me for fiddling about\n",
       "19                                       Being in Vegas with @donniewahlberg would be so much better then home!! This has been the day from hell!!\n",
       "20                  heylo johnn (: i am a huge fan. hope ur day is awesomee. cuzz i am home sick and its kinda less than awesome.. anyways.. PEACE\n",
       "21                                                                                                               is coming back to Ruston tomorrow\n",
       "22                                                                                         I caaaaa not sleep.....it is .am! wahhhh... i wanna cry\n",
       "23                       Just found out I have to leave my lovely flat!! And been waiting . hours for a plumber. Still no job news. Not a good day\n",
       "24                        ACK! Ghost Whisperer is not on! Damn network is lucky they gave me Walk The Line in place of it...f*ckas. JP is hawt. :)\n",
       "25                                                     haha, happened to me a lot of ti ames. Know the feeling. Happy mums day to ur mom too delle\n",
       "26                                                                            its not fruit, its those sugar covered sweets. My tummy is not happy\n",
       "27                                Poor Jon, I feel for you dude Eat some chocolate, that will make you feel better, oh and some ice cream - YUM!!!\n",
       "28                                         Hearing a surprising news about my bestfriend...where are you sis ? You have to tell me the whole story\n",
       "29       Created a new album on my Facebook for my Phantom cross stitch I want to track my own progress so I feel like I am getting something done\n",
       "                                                                           ...                                                                    \n",
       "30970                                                                                                                         i miss music on mtv!\n",
       "30971                                                                 Jenn jenn jenn oh why oh why will not u pass on ur iTunes knowledge onto me?\n",
       "30972                                                                   Make her something. Buying something is too i ampersonal. She is your mom!\n",
       "30973                                                                                                                        - Such a pretty baby!\n",
       "30974                                                                         Oh poor thing Hope it is easily sorted out. (and not too expensive!)\n",
       "30975                                                                                  She must have a very adwancrd sense of humor! That is funny\n",
       "30976                                                                                          is taking Ethan and Ryder to playgroup this morning\n",
       "30977                                                                                                          sooo long twitters! I'm off to Cuba\n",
       "30978                                                                                                                        oh that was good cake\n",
       "30979                                                                                                 that is my idea of good dinner happy munchin\n",
       "30980                                                                                                  well thats not nice... hope ur all good now\n",
       "30981                                                                                          Seeing my brother graduate tomorrow. Should be fun.\n",
       "30982                 shack idol today(: cannot wait. it is gonna be funnn poor cameron. he fell ON A BAR in speech today. i felt so bad for hi am\n",
       "30983                                                  nice recolouring of your page nobody is buying your anti-twittering words!! YOU LOVE IT!!!!\n",
       "30984                                                                                                                  thank you. yes yes. hooray!\n",
       "30985                                                                                Ha. J perfect ti aming on that message, the cure just came on\n",
       "30986                                                                                                               my knees are sore after physio\n",
       "30987                                                                                                                                   - awesome.\n",
       "30988                                                                                                                       Off the road this week\n",
       "30989                                                                                                                          happy mother is day\n",
       "30990                                                                                      Is one bar two of the pub crawl... Gonn be a long night\n",
       "30991                                                                                           I would like to be able to go just to ONE of those\n",
       "30992                                                                                                          It is freakin' hot and humid today.\n",
       "30993                                                                                          I know how you feel Have a lovely relaxing weekend!\n",
       "30994                                                                                                      Good show, sleepyti ame. Goodnight moon\n",
       "30995                                                                                                                          Rainy day is rainy.\n",
       "30996                                                                                                                    what was it? I missed it.\n",
       "30997                If the drive is automatically ejecting supported discs (ie CD-R), and you cannot boot from a disc, it is ti ame for AppleCare\n",
       "30998                                                                                                        mmmm... looks so yummy! good seeing u\n",
       "30999                                                                                                                                Flicitations!\n",
       "Name: Text, Length: 30997, dtype: object"
      ]
     },
     "execution_count": 42,
     "metadata": {},
     "output_type": "execute_result"
    }
   ],
   "source": [
    "df['Text'].apply(lambda x: \" \".join(x for x in x.split() if x not in freq))"
   ]
  },
  {
   "cell_type": "markdown",
   "metadata": {},
   "source": [
    "### Tokenization of words"
   ]
  },
  {
   "cell_type": "code",
   "execution_count": 43,
   "metadata": {
    "collapsed": true
   },
   "outputs": [],
   "source": [
    "tt = TweetTokenizer()"
   ]
  },
  {
   "cell_type": "code",
   "execution_count": 44,
   "metadata": {},
   "outputs": [
    {
     "data": {
      "text/plain": [
       "0                                                                                      [she, had, another, song, out, recently, but, it, did, not, get, that, much, play]\n",
       "1    [wellity, !, i, think, i, ama, gonna, clean, my, room, :|, Gay, ., i, need, to, read, a, good, book, ., sense, and, sensibility, here, we, come, !, BEAT, THE, LILY]\n",
       "2                                                                                                     [Bug, in, damn, cod, system, link, ., My, map, pack, isnt, working]\n",
       "3                      [weeooow, ,, i, feel, fat, ..., i, remember, when, i, used, to, weigh, that, much, pfffffffffffffffffffffftttttttt, long, ti, ame, ago, ,, hahaha]\n",
       "4            [mmmm, now, you, are, speaking, my, language, !, (, Unfortunately, ,, in, militant, diet, mode-am, seriously, thinking, of, competiton-so, no, TB, I, guess]\n",
       "Name: Text, dtype: object"
      ]
     },
     "execution_count": 44,
     "metadata": {},
     "output_type": "execute_result"
    }
   ],
   "source": [
    "df['Text'][:5].apply(tt.tokenize)"
   ]
  },
  {
   "cell_type": "markdown",
   "metadata": {},
   "source": [
    "# Feature Engineering"
   ]
  },
  {
   "cell_type": "markdown",
   "metadata": {},
   "source": [
    "Based on the above exploration and some of the concepts discussed in the paper - [\"A Comparison of Pre-processing Techniques for Twitter Sentiment Analysis\"](!https://link.springer.com/chapter/10.1007/978-3-319-67008-9_31)"
   ]
  },
  {
   "cell_type": "markdown",
   "metadata": {},
   "source": [
    "We use the following ideas for feature engineering:  \n",
    "1. Length of the sentence.  \n",
    "2. Binned Length.\n",
    "3. Number of words in the sentences.\n",
    "4. Number of capital letters.  \n",
    "5. Number of special chars/punctuations.\n",
    "6. Number of emoticons.\n",
    "7. Number of continuous exclamatory marks.\n",
    "8. Number of continuous stop marks.\n",
    "9. Number of continuous question marks.\n",
    "10. Number of positive/negative words in the sentence (keeping negation in mind).\n",
    "11. Number of misspelled words.\n",
    "12. Number of slangs\n",
    "13. Number of elongated words.\n",
    "14. Overall positive/negative scores of 5 most significant non-stop words in the sentence.\n",
    "15. Number of various emotions from the NRC lexicon"
   ]
  },
  {
   "cell_type": "markdown",
   "metadata": {},
   "source": [
    "### 1. Length of Sentence"
   ]
  },
  {
   "cell_type": "code",
   "execution_count": 45,
   "metadata": {
    "collapsed": true
   },
   "outputs": [],
   "source": [
    "sentiment = pd.to_numeric(df['sentiment'],errors='coerce',)"
   ]
  },
  {
   "cell_type": "code",
   "execution_count": 46,
   "metadata": {},
   "outputs": [
    {
     "data": {
      "text/plain": [
       "0.027471240849921717"
      ]
     },
     "execution_count": 46,
     "metadata": {},
     "output_type": "execute_result"
    }
   ],
   "source": [
    "tweet_length =df['Text'].str.len()\n",
    "df['length'] = df['Text'].str.len()\n",
    "tweet_length.corr(sentiment)"
   ]
  },
  {
   "cell_type": "code",
   "execution_count": 47,
   "metadata": {
    "collapsed": true
   },
   "outputs": [],
   "source": [
    "test_length =tf['Text'].str.len()\n",
    "tf['length'] = tf['Text'].str.len()"
   ]
  },
  {
   "cell_type": "markdown",
   "metadata": {},
   "source": [
    "### 2. Binned Length"
   ]
  },
  {
   "cell_type": "code",
   "execution_count": 48,
   "metadata": {},
   "outputs": [
    {
     "data": {
      "text/plain": [
       "count    30997.000000\n",
       "mean        66.900829\n",
       "std         36.017520\n",
       "min          1.000000\n",
       "25%         37.000000\n",
       "50%         62.000000\n",
       "75%         95.000000\n",
       "max        147.000000\n",
       "Name: length, dtype: float64"
      ]
     },
     "execution_count": 48,
     "metadata": {},
     "output_type": "execute_result"
    }
   ],
   "source": [
    "df.length.describe()"
   ]
  },
  {
   "cell_type": "code",
   "execution_count": 49,
   "metadata": {},
   "outputs": [
    {
     "data": {
      "text/plain": [
       "0.027471240849921717"
      ]
     },
     "execution_count": 49,
     "metadata": {},
     "output_type": "execute_result"
    }
   ],
   "source": [
    "df.length.corr(sentiment)"
   ]
  },
  {
   "cell_type": "code",
   "execution_count": 50,
   "metadata": {
    "collapsed": true
   },
   "outputs": [],
   "source": [
    "df['binnedLength'] = pd.qcut(df['length'], 13, labels=False)"
   ]
  },
  {
   "cell_type": "code",
   "execution_count": 51,
   "metadata": {},
   "outputs": [
    {
     "data": {
      "text/plain": [
       "0.029454144666032356"
      ]
     },
     "execution_count": 51,
     "metadata": {},
     "output_type": "execute_result"
    }
   ],
   "source": [
    "df.binnedLength.corr(sentiment)"
   ]
  },
  {
   "cell_type": "markdown",
   "metadata": {},
   "source": [
    "### 3. Number of words in a sentence"
   ]
  },
  {
   "cell_type": "code",
   "execution_count": 52,
   "metadata": {
    "collapsed": true
   },
   "outputs": [],
   "source": [
    "def getNumWords(text):\n",
    "    tokens = nltk.word_tokenize(text)\n",
    "    return len(tokens)"
   ]
  },
  {
   "cell_type": "code",
   "execution_count": 53,
   "metadata": {
    "collapsed": true
   },
   "outputs": [],
   "source": [
    "df['numWords'] = df['Text'].astype(str).apply(lambda x: getNumWords(x))"
   ]
  },
  {
   "cell_type": "code",
   "execution_count": 54,
   "metadata": {},
   "outputs": [
    {
     "data": {
      "text/plain": [
       "0.02527342925208481"
      ]
     },
     "execution_count": 54,
     "metadata": {},
     "output_type": "execute_result"
    }
   ],
   "source": [
    "df['numWords'].corr(sentiment)"
   ]
  },
  {
   "cell_type": "code",
   "execution_count": 55,
   "metadata": {
    "collapsed": true
   },
   "outputs": [],
   "source": [
    "tf['numWords'] = tf['Text'].astype(str).apply(lambda x: getNumWords(x))"
   ]
  },
  {
   "cell_type": "markdown",
   "metadata": {},
   "source": [
    "### 4. Number of Capital Letters"
   ]
  },
  {
   "cell_type": "code",
   "execution_count": 56,
   "metadata": {
    "collapsed": true
   },
   "outputs": [
    {
     "name": "stdout",
     "output_type": "stream",
     "text": [
      "0.04758285977961391\n"
     ]
    }
   ],
   "source": [
    "capitalLetter = df['Text'].str.findall(r'[A-Z]').str.len()\n",
    "print(capitalLetter.corr(sentiment))\n",
    "df['numCaps'] = df['Text'].str.findall(r'[A-Z]').str.len()"
   ]
  },
  {
   "cell_type": "code",
   "execution_count": 57,
   "metadata": {
    "collapsed": true
   },
   "outputs": [],
   "source": [
    "tf['numCaps'] = tf['Text'].str.findall(r'[A-Z]').str.len()"
   ]
  },
  {
   "cell_type": "markdown",
   "metadata": {},
   "source": [
    "Making string to lower case"
   ]
  },
  {
   "cell_type": "code",
   "execution_count": 58,
   "metadata": {
    "collapsed": true
   },
   "outputs": [],
   "source": [
    "df['Text'] = df['Text'].str.lower()\n",
    "tf['Text'] = tf['Text'].str.lower()"
   ]
  },
  {
   "cell_type": "markdown",
   "metadata": {},
   "source": [
    "### 5. Number of Special Chars/Punctuations"
   ]
  },
  {
   "cell_type": "code",
   "execution_count": 59,
   "metadata": {
    "collapsed": true
   },
   "outputs": [],
   "source": [
    "specialChar = '[!@#$%^&*.:|())-,?'';\\'\\\"]+'\n",
    "punctuations = df['Text'].str.count(specialChar)\n",
    "df['numSpecial'] = df['Text'].str.count(specialChar)"
   ]
  },
  {
   "cell_type": "code",
   "execution_count": 60,
   "metadata": {},
   "outputs": [
    {
     "data": {
      "text/plain": [
       "0.066360429167322"
      ]
     },
     "execution_count": 60,
     "metadata": {},
     "output_type": "execute_result"
    }
   ],
   "source": [
    "punctuations.corr(sentiment)"
   ]
  },
  {
   "cell_type": "code",
   "execution_count": 61,
   "metadata": {
    "collapsed": true
   },
   "outputs": [],
   "source": [
    "tf['numSpecial'] = tf['Text'].str.count(specialChar)"
   ]
  },
  {
   "cell_type": "markdown",
   "metadata": {},
   "source": [
    "### 6. Number of emoticons"
   ]
  },
  {
   "cell_type": "code",
   "execution_count": 62,
   "metadata": {
    "collapsed": true
   },
   "outputs": [],
   "source": [
    "def numEmoticons(text):    \n",
    "    return len(re.findall(':\\)|;\\)|:-\\)|\\(-:|:-D|=D|:P|xD|X-p|\\^\\^|:-*|\\^\\.\\^|\\^\\-\\^|\\^\\_\\^|\\,-\\)|\\)-:|:\\'\\(|:\\(|:-\\(|:\\S|T\\.T|\\.\\_\\.|:<|:-\\S|:-<|\\*\\-\\*|:O|=O|=\\-O|O\\.o|XO|O\\_O|:-\\@|=/|:/|X\\-\\(|>\\.<|>=\\(|D:', text))\n"
   ]
  },
  {
   "cell_type": "code",
   "execution_count": 63,
   "metadata": {
    "collapsed": true
   },
   "outputs": [],
   "source": [
    "df['numEmoticons'] = df[\"Text\"].astype(str).apply(lambda x: numEmoticons(x))\n",
    "tf['numEmoticons'] = tf[\"Text\"].astype(str).apply(lambda x: numEmoticons(x))"
   ]
  },
  {
   "cell_type": "code",
   "execution_count": 64,
   "metadata": {},
   "outputs": [
    {
     "data": {
      "text/plain": [
       "0.004305864015220123"
      ]
     },
     "execution_count": 64,
     "metadata": {},
     "output_type": "execute_result"
    }
   ],
   "source": [
    "df.numEmoticons.corr(sentiment)"
   ]
  },
  {
   "cell_type": "markdown",
   "metadata": {},
   "source": [
    "### 7. Number of continuous exclamatory marks"
   ]
  },
  {
   "cell_type": "code",
   "execution_count": 65,
   "metadata": {
    "collapsed": true
   },
   "outputs": [],
   "source": [
    "def numMultiExclamatoryMarks(text):\n",
    "    return len(re.findall(r\"(\\!)\\1+\", text))"
   ]
  },
  {
   "cell_type": "code",
   "execution_count": 66,
   "metadata": {
    "collapsed": true
   },
   "outputs": [],
   "source": [
    "df['numMultiExclamations'] = df[\"Text\"].astype(str).apply(lambda x: numMultiExclamatoryMarks(x))\n",
    "tf['numMultiExclamations'] = tf[\"Text\"].astype(str).apply(lambda x: numMultiExclamatoryMarks(x))"
   ]
  },
  {
   "cell_type": "code",
   "execution_count": 67,
   "metadata": {},
   "outputs": [
    {
     "data": {
      "text/plain": [
       "0.08398916819072187"
      ]
     },
     "execution_count": 67,
     "metadata": {},
     "output_type": "execute_result"
    }
   ],
   "source": [
    "df.numMultiExclamations.corr(sentiment)"
   ]
  },
  {
   "cell_type": "markdown",
   "metadata": {},
   "source": [
    "### 8. Number of continuous stop marks"
   ]
  },
  {
   "cell_type": "code",
   "execution_count": 68,
   "metadata": {
    "collapsed": true
   },
   "outputs": [],
   "source": [
    "def numMultiStopMarks(text):\n",
    "    return len(re.findall(r\"(\\.)\\1+\", text))"
   ]
  },
  {
   "cell_type": "code",
   "execution_count": 69,
   "metadata": {
    "collapsed": true
   },
   "outputs": [],
   "source": [
    "df['numMultiStopMarks'] = df[\"Text\"].astype(str).apply(lambda x: numMultiStopMarks(x))\n",
    "tf['numMultiStopMarks'] = tf[\"Text\"].astype(str).apply(lambda x: numMultiStopMarks(x))"
   ]
  },
  {
   "cell_type": "code",
   "execution_count": 70,
   "metadata": {},
   "outputs": [
    {
     "data": {
      "text/plain": [
       "-0.017701751497737568"
      ]
     },
     "execution_count": 70,
     "metadata": {},
     "output_type": "execute_result"
    }
   ],
   "source": [
    "df.numMultiStopMarks.corr(sentiment)"
   ]
  },
  {
   "cell_type": "markdown",
   "metadata": {},
   "source": [
    "### 9. Number of continuous question marks"
   ]
  },
  {
   "cell_type": "code",
   "execution_count": 71,
   "metadata": {
    "collapsed": true
   },
   "outputs": [],
   "source": [
    "def numMultiQuestionMarks(text):\n",
    "    return len(re.findall(r\"(\\?)\\1+\", text))"
   ]
  },
  {
   "cell_type": "code",
   "execution_count": 72,
   "metadata": {
    "collapsed": true
   },
   "outputs": [],
   "source": [
    "df['numMultiQuestionMarks'] = df[\"Text\"].astype(str).apply(lambda x: numMultiQuestionMarks(x))\n",
    "tf['numMultiQuestionMarks'] = tf[\"Text\"].astype(str).apply(lambda x: numMultiQuestionMarks(x))"
   ]
  },
  {
   "cell_type": "code",
   "execution_count": 73,
   "metadata": {},
   "outputs": [
    {
     "data": {
      "text/plain": [
       "0.0007143138224330105"
      ]
     },
     "execution_count": 73,
     "metadata": {},
     "output_type": "execute_result"
    }
   ],
   "source": [
    "df.numMultiQuestionMarks.corr(sentiment)"
   ]
  },
  {
   "cell_type": "markdown",
   "metadata": {},
   "source": [
    "Replace special chars"
   ]
  },
  {
   "cell_type": "code",
   "execution_count": 74,
   "metadata": {
    "collapsed": true
   },
   "outputs": [],
   "source": [
    "def cleanSpecials(text):\n",
    "#     multi exclamation\n",
    "    text = re.sub(r\"(\\!)\\1+\", ' multiExclamation ', text)\n",
    "#     multi stop\n",
    "    text = re.sub(r\"(\\.)\\1+\", ' multiStop ', text)\n",
    "#     multi question\n",
    "    text = re.sub(r\"(\\?)\\1+\", ' multiQuestion ', text)\n",
    "#     remove emoticons\n",
    "    text = re.sub(':\\)|;\\)|:-\\)|\\(-:|:-D|=D|:P|xD|X-p|\\^\\^|:-*|\\^\\.\\^|\\^\\-\\^|\\^\\_\\^|\\,-\\)|\\)-:|:\\'\\(|:\\(|:-\\(|:\\S|T\\.T|\\.\\_\\.|:<|:-\\S|:-<|\\*\\-\\*|:O|=O|=\\-O|O\\.o|XO|O\\_O|:-\\@|=/|:/|X\\-\\(|>\\.<|>=\\(|D:', '', text)\n",
    "#     remove hashtags\n",
    "    text = re.sub(r'#([^\\s]+)', r'\\1', text)\n",
    "    return text"
   ]
  },
  {
   "cell_type": "code",
   "execution_count": 75,
   "metadata": {
    "collapsed": true
   },
   "outputs": [],
   "source": [
    "df['Text'] = df['Text'].apply(lambda x: cleanSpecials(x))\n",
    "tf['Text'] = tf['Text'].apply(lambda x: cleanSpecials(x))"
   ]
  },
  {
   "cell_type": "markdown",
   "metadata": {},
   "source": [
    "### 10. Number of positive, negative and neutral words keeping negation in mind"
   ]
  },
  {
   "cell_type": "code",
   "execution_count": 76,
   "metadata": {
    "collapsed": true
   },
   "outputs": [],
   "source": [
    "negation_words = [\"not\", \"no\", \"never\", \"without\"]\n",
    "def getPolarity(text):\n",
    "    posCount = 0\n",
    "    negCount = 0\n",
    "    neuCount = 0\n",
    "    \n",
    "    tokens = nltk.word_tokenize(text)\n",
    "    prevWord = \"\"\n",
    "    for word in tokens:\n",
    "        pol = TextBlob(word).sentiment.polarity\n",
    "        if pol>0.0:\n",
    "            if prevWord in negation_words:\n",
    "                negCount+=1\n",
    "            else:\n",
    "                posCount+=1\n",
    "        elif pol<0.0:\n",
    "            if prevWord in negation_words:\n",
    "                posCount+=1\n",
    "            else:\n",
    "                negCount+=1\n",
    "        else:\n",
    "            neuCount+=1\n",
    "        prevWord = word\n",
    "            \n",
    "    return (posCount,negCount,neuCount)"
   ]
  },
  {
   "cell_type": "code",
   "execution_count": 77,
   "metadata": {
    "collapsed": true
   },
   "outputs": [],
   "source": [
    "df['sentimentCount'] = df[\"Text\"].astype(str).apply(lambda x: getPolarity(x))"
   ]
  },
  {
   "cell_type": "code",
   "execution_count": 78,
   "metadata": {
    "collapsed": true
   },
   "outputs": [],
   "source": [
    "df[['numPositiveWords','numNegativeWords','numNeutralWords']] = df['sentimentCount'].apply(pd.Series)"
   ]
  },
  {
   "cell_type": "code",
   "execution_count": 79,
   "metadata": {
    "collapsed": true
   },
   "outputs": [],
   "source": [
    "tf['sentimentCount'] = tf[\"Text\"].astype(str).apply(lambda x: getPolarity(x))"
   ]
  },
  {
   "cell_type": "code",
   "execution_count": 80,
   "metadata": {
    "collapsed": true
   },
   "outputs": [],
   "source": [
    "tf[['numPositiveWords','numNegativeWords','numNeutralWords']] = tf['sentimentCount'].apply(pd.Series)"
   ]
  },
  {
   "cell_type": "code",
   "execution_count": 81,
   "metadata": {
    "collapsed": true
   },
   "outputs": [],
   "source": [
    "df = df.drop(columns=['sentimentCount'])\n",
    "tf = tf.drop(columns=['sentimentCount'])"
   ]
  },
  {
   "cell_type": "code",
   "execution_count": 82,
   "metadata": {},
   "outputs": [
    {
     "data": {
      "text/plain": [
       "0.19365800183838763"
      ]
     },
     "execution_count": 82,
     "metadata": {},
     "output_type": "execute_result"
    }
   ],
   "source": [
    "df.numPositiveWords.corr(sentiment)"
   ]
  },
  {
   "cell_type": "code",
   "execution_count": 83,
   "metadata": {},
   "outputs": [
    {
     "data": {
      "text/plain": [
       "-0.1150525807339214"
      ]
     },
     "execution_count": 83,
     "metadata": {},
     "output_type": "execute_result"
    }
   ],
   "source": [
    "df.numNegativeWords.corr(sentiment)"
   ]
  },
  {
   "cell_type": "markdown",
   "metadata": {},
   "source": [
    "### 11. Number of missplled words"
   ]
  },
  {
   "cell_type": "code",
   "execution_count": 84,
   "metadata": {
    "collapsed": true
   },
   "outputs": [],
   "source": [
    "# import hunspell\n",
    "\n",
    "# hobj = hunspell.Hunspell()\n",
    "# def getMisspelledWords(text):\n",
    "#     misspelled = 0\n",
    "#     tokens = nltk.word_tokenize(text)\n",
    "    \n",
    "#     for word in tokens:\n",
    "#         if (not(hobj.spell(word))):\n",
    "#             misspelled += 1\n",
    "    \n",
    "#     return misspelled"
   ]
  },
  {
   "cell_type": "code",
   "execution_count": 85,
   "metadata": {
    "collapsed": true
   },
   "outputs": [],
   "source": [
    "# df['numMisspelledWords'] = df[\"Text\"].astype(str).apply(lambda x: getMisspelledWords(x))   "
   ]
  },
  {
   "cell_type": "code",
   "execution_count": 86,
   "metadata": {
    "collapsed": true
   },
   "outputs": [],
   "source": [
    "# tf['numMisspelledWords'] = tf[\"Text\"].astype(str).apply(lambda x: getMisspelledWords(x))   "
   ]
  },
  {
   "cell_type": "code",
   "execution_count": 87,
   "metadata": {
    "collapsed": true
   },
   "outputs": [],
   "source": [
    "# df.numMisspelledWords.corr(sentiment)"
   ]
  },
  {
   "cell_type": "markdown",
   "metadata": {},
   "source": [
    "### 12. Number of slangs"
   ]
  },
  {
   "cell_type": "code",
   "execution_count": 88,
   "metadata": {
    "collapsed": true
   },
   "outputs": [],
   "source": [
    "with open('slang.txt') as file:\n",
    "    slang_map = dict(map(str.strip, line.partition('\\t')[::2])\n",
    "    for line in file if line.strip())\n",
    "\n",
    "slang_words = sorted(slang_map, key=len, reverse=True)"
   ]
  },
  {
   "cell_type": "code",
   "execution_count": 89,
   "metadata": {
    "collapsed": true
   },
   "outputs": [],
   "source": [
    "def numSlang(text):\n",
    "    slangCounter = 0\n",
    "    slangsFound = []\n",
    "    tokens = nltk.word_tokenize(text)\n",
    "    for word in tokens:\n",
    "        if word in slang_words:\n",
    "            slangsFound.append(word)\n",
    "            slangCounter += 1\n",
    "   # return slangCounter, slangsFound\n",
    "    return slangCounter"
   ]
  },
  {
   "cell_type": "code",
   "execution_count": 90,
   "metadata": {
    "collapsed": true
   },
   "outputs": [],
   "source": [
    "df['numSlangs'] = df[\"Text\"].astype(str).apply(lambda x: numSlang(x)) \n",
    "tf['numSlangs'] = tf[\"Text\"].astype(str).apply(lambda x: numSlang(x)) "
   ]
  },
  {
   "cell_type": "code",
   "execution_count": 91,
   "metadata": {},
   "outputs": [
    {
     "data": {
      "text/plain": [
       "0.041689267634501016"
      ]
     },
     "execution_count": 91,
     "metadata": {},
     "output_type": "execute_result"
    }
   ],
   "source": [
    "df.numSlangs.corr(sentiment)"
   ]
  },
  {
   "cell_type": "markdown",
   "metadata": {},
   "source": [
    "### 13. Number of elongated words"
   ]
  },
  {
   "cell_type": "code",
   "execution_count": 92,
   "metadata": {
    "collapsed": true
   },
   "outputs": [],
   "source": [
    "def numElongated(text):\n",
    "    regex = re.compile(r\"(.)\\1{2}\")\n",
    "    return len([word for word in text.split() if regex.search(word)])"
   ]
  },
  {
   "cell_type": "code",
   "execution_count": 93,
   "metadata": {
    "collapsed": true
   },
   "outputs": [],
   "source": [
    "df['numElongated'] = df[\"Text\"].astype(str).apply(lambda x: numElongated(x)) \n",
    "tf['numElongated'] = tf[\"Text\"].astype(str).apply(lambda x: numElongated(x)) "
   ]
  },
  {
   "cell_type": "code",
   "execution_count": 94,
   "metadata": {},
   "outputs": [
    {
     "data": {
      "text/plain": [
       "0.03830724957677124"
      ]
     },
     "execution_count": 94,
     "metadata": {},
     "output_type": "execute_result"
    }
   ],
   "source": [
    "df.numElongated.corr(sentiment)"
   ]
  },
  {
   "cell_type": "markdown",
   "metadata": {},
   "source": [
    "### 14. Overall polarity of 5 most significant non-stopwords keeping negation in mind"
   ]
  },
  {
   "cell_type": "code",
   "execution_count": 95,
   "metadata": {},
   "outputs": [
    {
     "name": "stderr",
     "output_type": "stream",
     "text": [
      "/Users/amangal/anaconda3/lib/python3.6/site-packages/sklearn/feature_extraction/text.py:286: UserWarning: Your stop_words may be inconsistent with your preprocessing. Tokenizing the stop words generated tokens [\"'d\", \"'ll\", \"'re\", \"'s\", \"'ve\", 'could', 'might', 'must', \"n't\", 'need', 'sha', 'wo', 'would'] not in stop_words.\n",
      "  sorted(inconsistent))\n"
     ]
    }
   ],
   "source": [
    "from sklearn.feature_extraction.text import TfidfVectorizer\n",
    "\n",
    "vectorizer = TfidfVectorizer(tokenizer=nltk.word_tokenize, stop_words=stopwords.words('english'))\n",
    "vector = vectorizer.fit_transform(df['Text'])\n",
    "\n",
    "def totalPolarityFor5SignificantWords(vector, vectorizer, data):\n",
    "    features = vectorizer.get_feature_names()\n",
    "    totalPolarity = []\n",
    "    for i in range(vector.shape[0]):\n",
    "        row = vector.getrow(i).A[0]\n",
    "        top5 = [features[j] for j in np.argpartition(row, -5)[-5:]]\n",
    "        \n",
    "        text = data.Text.iloc[i]\n",
    "        tokens = nltk.word_tokenize(text)\n",
    "        \n",
    "        currentPolarity = 0\n",
    "        for i,word in enumerate(tokens):\n",
    "            if word in top5:\n",
    "                pol = TextBlob(word).sentiment.polarity\n",
    "                if tokens[i-1] in negation_words:\n",
    "                    pol = 0-pol\n",
    "                currentPolarity += pol\n",
    "        totalPolarity.append(currentPolarity)\n",
    "    return totalPolarity"
   ]
  },
  {
   "cell_type": "code",
   "execution_count": 96,
   "metadata": {
    "collapsed": true
   },
   "outputs": [],
   "source": [
    "df['mostSignificantSentimentScore'] = totalPolarityFor5SignificantWords(vector, vectorizer, df)"
   ]
  },
  {
   "cell_type": "code",
   "execution_count": 97,
   "metadata": {},
   "outputs": [
    {
     "data": {
      "text/plain": [
       "0.16794630624132248"
      ]
     },
     "execution_count": 97,
     "metadata": {},
     "output_type": "execute_result"
    }
   ],
   "source": [
    "df.mostSignificantSentimentScore.corr(sentiment)"
   ]
  },
  {
   "cell_type": "code",
   "execution_count": 98,
   "metadata": {
    "collapsed": true
   },
   "outputs": [],
   "source": [
    "t_vector = vectorizer.transform(tf['Text'])\n",
    "tf['mostSignificantSentimentScore'] = totalPolarityFor5SignificantWords(t_vector, vectorizer, tf)"
   ]
  },
  {
   "cell_type": "markdown",
   "metadata": {},
   "source": [
    "### 15. Number of various emotions from the NRC lexicon"
   ]
  },
  {
   "cell_type": "code",
   "execution_count": 99,
   "metadata": {
    "collapsed": true
   },
   "outputs": [],
   "source": [
    "nrc_emotions = {}\n",
    "with open('nrc_lexicon.txt', \"r\", encoding=\"utf-8\") as nrc_file:\n",
    "    for line in nrc_file.readlines():\n",
    "        splitted = line.replace(\"\\n\", \"\").split(\"\\t\")\n",
    "        word, emotion, value = splitted[0], splitted[1], splitted[2]\n",
    "        if word in nrc_emotions.keys():\n",
    "            nrc_emotions[word].append((emotion, int(value)))\n",
    "        else:\n",
    "            nrc_emotions[word] = [(emotion, int(value))]"
   ]
  },
  {
   "cell_type": "code",
   "execution_count": 100,
   "metadata": {
    "collapsed": true
   },
   "outputs": [],
   "source": [
    "def get_emotion(word, emotion):\n",
    "    if word not in nrc_emotions:\n",
    "        return 0\n",
    "    emotions = nrc_emotions[word]\n",
    "    for emot in emotions:\n",
    "        if emot[0] == emotion:\n",
    "            return emot[1]\n",
    "    return 0"
   ]
  },
  {
   "cell_type": "code",
   "execution_count": 101,
   "metadata": {
    "collapsed": true
   },
   "outputs": [],
   "source": [
    "emotions = ['anger','anticipation','disgust','fear','joy','sadness','surprise','trust']\n",
    "def getNumberOfEmotionWords(text, emotion):\n",
    "    emotionCounter=0\n",
    "\n",
    "    tokens = nltk.word_tokenize(text)\n",
    "    for word in tokens:\n",
    "        emotionCounter += get_emotion(word,emotion)\n",
    "    return emotionCounter"
   ]
  },
  {
   "cell_type": "code",
   "execution_count": 102,
   "metadata": {
    "collapsed": true
   },
   "outputs": [],
   "source": [
    "for emotion in emotions:\n",
    "    df['num_' + emotion + 'Words'] = df['Text'].apply(lambda x: getNumberOfEmotionWords(x,emotion))"
   ]
  },
  {
   "cell_type": "code",
   "execution_count": 103,
   "metadata": {
    "collapsed": true
   },
   "outputs": [],
   "source": [
    "for emotion in emotions:\n",
    "    tf['num_' + emotion + 'Words'] = tf['Text'].apply(lambda x: getNumberOfEmotionWords(x,emotion))"
   ]
  },
  {
   "cell_type": "markdown",
   "metadata": {},
   "source": [
    "### Normalize Features"
   ]
  },
  {
   "cell_type": "code",
   "execution_count": 104,
   "metadata": {},
   "outputs": [
    {
     "data": {
      "text/plain": [
       "Index(['sentiment', 'Text', 'length', 'binnedLength', 'numWords', 'numCaps',\n",
       "       'numSpecial', 'numEmoticons', 'numMultiExclamations',\n",
       "       'numMultiStopMarks', 'numMultiQuestionMarks', 'numPositiveWords',\n",
       "       'numNegativeWords', 'numNeutralWords', 'numSlangs', 'numElongated',\n",
       "       'mostSignificantSentimentScore', 'num_angerWords',\n",
       "       'num_anticipationWords', 'num_disgustWords', 'num_fearWords',\n",
       "       'num_joyWords', 'num_sadnessWords', 'num_surpriseWords',\n",
       "       'num_trustWords'],\n",
       "      dtype='object')"
      ]
     },
     "execution_count": 104,
     "metadata": {},
     "output_type": "execute_result"
    }
   ],
   "source": [
    "df.columns"
   ]
  },
  {
   "cell_type": "code",
   "execution_count": 105,
   "metadata": {
    "collapsed": true
   },
   "outputs": [],
   "source": [
    "df['numCaps'] = df['numCaps']/df['length']\n",
    "df['numSpecial'] = df['numSpecial']/df['length']\n",
    "df['numEmoticons'] = df['numEmoticons']/df['length']\n",
    "df['numMultiExclamations'] = df['numMultiExclamations']/df['length']\n",
    "df['numMultiStopMarks'] = df['numMultiStopMarks']/df['length']\n",
    "\n",
    "df['numPositiveWords'] = df['numPositiveWords']/df['numWords']\n",
    "df['numNegativeWords'] = df['numNegativeWords']/df['numWords']\n",
    "df['numNeutralWords'] = df['numNeutralWords']/df['numWords']\n",
    "# df['numMisspelledWords'] = df['numMisspelledWords']/df['numWords']\n",
    "df['numSlangs'] = df['numSlangs']/df['numWords']\n",
    "df['numElongated'] = df['numElongated']/df['numWords']\n",
    "\n",
    "for emotion in emotions:\n",
    "    df['num_' + emotion + 'Words'] = df['num_' + emotion + 'Words'] / df['numWords']\n",
    "\n",
    "\n",
    "df['numWords'] = df['numWords']/df['length']\n",
    "df['length'] = (df['length']-df['length'].mean())/(df['length'].max()-df['length'].min())"
   ]
  },
  {
   "cell_type": "code",
   "execution_count": 106,
   "metadata": {
    "collapsed": true
   },
   "outputs": [],
   "source": [
    "tf['numCaps'] = tf['numCaps']/tf['length']\n",
    "tf['numSpecial'] = tf['numSpecial']/tf['length']\n",
    "tf['numEmoticons'] = tf['numEmoticons']/tf['length']\n",
    "tf['numMultiExclamations'] = tf['numMultiExclamations']/tf['length']\n",
    "tf['numMultiStopMarks'] = tf['numMultiStopMarks']/tf['length']\n",
    "\n",
    "tf['numPositiveWords'] = tf['numPositiveWords']/tf['numWords']\n",
    "tf['numNegativeWords'] = tf['numNegativeWords']/tf['numWords']\n",
    "tf['numNeutralWords'] = tf['numNeutralWords']/tf['numWords']\n",
    "# tf['numMisspelledWords'] = tf['numMisspelledWords']/tf['numWords']\n",
    "tf['numSlangs'] = tf['numSlangs']/tf['numWords']\n",
    "tf['numElongated'] = tf['numElongated']/tf['numWords']\n",
    "\n",
    "for emotion in emotions:\n",
    "    tf['num_' + emotion + 'Words'] = tf['num_' + emotion + 'Words'] / tf['numWords']\n",
    "\n",
    "tf['numWords'] = tf['numWords']/tf['length']\n",
    "tf['length'] = (tf['length']-tf['length'].mean())/(tf['length'].max()-tf['length'].min())"
   ]
  },
  {
   "cell_type": "markdown",
   "metadata": {},
   "source": [
    "## Featue Evaluation"
   ]
  },
  {
   "cell_type": "code",
   "execution_count": 107,
   "metadata": {},
   "outputs": [
    {
     "data": {
      "text/plain": [
       "Index(['sentiment', 'Text', 'length', 'binnedLength', 'numWords', 'numCaps',\n",
       "       'numSpecial', 'numEmoticons', 'numMultiExclamations',\n",
       "       'numMultiStopMarks', 'numMultiQuestionMarks', 'numPositiveWords',\n",
       "       'numNegativeWords', 'numNeutralWords', 'numSlangs', 'numElongated',\n",
       "       'mostSignificantSentimentScore', 'num_angerWords',\n",
       "       'num_anticipationWords', 'num_disgustWords', 'num_fearWords',\n",
       "       'num_joyWords', 'num_sadnessWords', 'num_surpriseWords',\n",
       "       'num_trustWords'],\n",
       "      dtype='object')"
      ]
     },
     "execution_count": 107,
     "metadata": {},
     "output_type": "execute_result"
    }
   ],
   "source": [
    "df.columns"
   ]
  },
  {
   "cell_type": "code",
   "execution_count": 108,
   "metadata": {},
   "outputs": [
    {
     "data": {
      "text/html": [
       "<div>\n",
       "<style scoped>\n",
       "    .dataframe tbody tr th:only-of-type {\n",
       "        vertical-align: middle;\n",
       "    }\n",
       "\n",
       "    .dataframe tbody tr th {\n",
       "        vertical-align: top;\n",
       "    }\n",
       "\n",
       "    .dataframe thead th {\n",
       "        text-align: right;\n",
       "    }\n",
       "</style>\n",
       "<table border=\"1\" class=\"dataframe\">\n",
       "  <thead>\n",
       "    <tr style=\"text-align: right;\">\n",
       "      <th></th>\n",
       "      <th>sentiment</th>\n",
       "      <th>length</th>\n",
       "      <th>binnedLength</th>\n",
       "      <th>numWords</th>\n",
       "      <th>numCaps</th>\n",
       "      <th>numSpecial</th>\n",
       "      <th>numEmoticons</th>\n",
       "      <th>numMultiExclamations</th>\n",
       "      <th>numMultiStopMarks</th>\n",
       "      <th>numMultiQuestionMarks</th>\n",
       "      <th>...</th>\n",
       "      <th>numElongated</th>\n",
       "      <th>mostSignificantSentimentScore</th>\n",
       "      <th>num_angerWords</th>\n",
       "      <th>num_anticipationWords</th>\n",
       "      <th>num_disgustWords</th>\n",
       "      <th>num_fearWords</th>\n",
       "      <th>num_joyWords</th>\n",
       "      <th>num_sadnessWords</th>\n",
       "      <th>num_surpriseWords</th>\n",
       "      <th>num_trustWords</th>\n",
       "    </tr>\n",
       "  </thead>\n",
       "  <tbody>\n",
       "    <tr>\n",
       "      <th>sentiment</th>\n",
       "      <td>1.000000</td>\n",
       "      <td>0.027471</td>\n",
       "      <td>0.029454</td>\n",
       "      <td>-0.011595</td>\n",
       "      <td>0.036482</td>\n",
       "      <td>0.052514</td>\n",
       "      <td>-0.001485</td>\n",
       "      <td>0.067462</td>\n",
       "      <td>-0.035491</td>\n",
       "      <td>0.000714</td>\n",
       "      <td>...</td>\n",
       "      <td>0.023862</td>\n",
       "      <td>0.167946</td>\n",
       "      <td>-0.046019</td>\n",
       "      <td>0.112317</td>\n",
       "      <td>-0.046033</td>\n",
       "      <td>-0.063368</td>\n",
       "      <td>0.127977</td>\n",
       "      <td>-0.086081</td>\n",
       "      <td>0.071471</td>\n",
       "      <td>0.093210</td>\n",
       "    </tr>\n",
       "    <tr>\n",
       "      <th>length</th>\n",
       "      <td>0.027471</td>\n",
       "      <td>1.000000</td>\n",
       "      <td>0.990519</td>\n",
       "      <td>-0.143882</td>\n",
       "      <td>-0.076479</td>\n",
       "      <td>-0.065814</td>\n",
       "      <td>0.009545</td>\n",
       "      <td>-0.068972</td>\n",
       "      <td>-0.010923</td>\n",
       "      <td>0.012764</td>\n",
       "      <td>...</td>\n",
       "      <td>-0.098221</td>\n",
       "      <td>-0.066174</td>\n",
       "      <td>-0.029882</td>\n",
       "      <td>-0.078050</td>\n",
       "      <td>-0.043966</td>\n",
       "      <td>-0.027748</td>\n",
       "      <td>-0.096070</td>\n",
       "      <td>-0.059234</td>\n",
       "      <td>-0.056046</td>\n",
       "      <td>-0.076687</td>\n",
       "    </tr>\n",
       "    <tr>\n",
       "      <th>binnedLength</th>\n",
       "      <td>0.029454</td>\n",
       "      <td>0.990519</td>\n",
       "      <td>1.000000</td>\n",
       "      <td>-0.145927</td>\n",
       "      <td>-0.078774</td>\n",
       "      <td>-0.066030</td>\n",
       "      <td>0.010322</td>\n",
       "      <td>-0.068536</td>\n",
       "      <td>-0.008107</td>\n",
       "      <td>0.012698</td>\n",
       "      <td>...</td>\n",
       "      <td>-0.100827</td>\n",
       "      <td>-0.066240</td>\n",
       "      <td>-0.032443</td>\n",
       "      <td>-0.081351</td>\n",
       "      <td>-0.046146</td>\n",
       "      <td>-0.030610</td>\n",
       "      <td>-0.100278</td>\n",
       "      <td>-0.062608</td>\n",
       "      <td>-0.057622</td>\n",
       "      <td>-0.081145</td>\n",
       "    </tr>\n",
       "    <tr>\n",
       "      <th>numWords</th>\n",
       "      <td>-0.011595</td>\n",
       "      <td>-0.143882</td>\n",
       "      <td>-0.145927</td>\n",
       "      <td>1.000000</td>\n",
       "      <td>0.097534</td>\n",
       "      <td>0.515935</td>\n",
       "      <td>0.087628</td>\n",
       "      <td>0.338409</td>\n",
       "      <td>0.018809</td>\n",
       "      <td>0.248967</td>\n",
       "      <td>...</td>\n",
       "      <td>-0.095751</td>\n",
       "      <td>-0.012504</td>\n",
       "      <td>-0.032488</td>\n",
       "      <td>-0.088462</td>\n",
       "      <td>-0.024028</td>\n",
       "      <td>-0.041858</td>\n",
       "      <td>-0.076160</td>\n",
       "      <td>-0.040000</td>\n",
       "      <td>-0.062683</td>\n",
       "      <td>-0.094233</td>\n",
       "    </tr>\n",
       "    <tr>\n",
       "      <th>numCaps</th>\n",
       "      <td>0.036482</td>\n",
       "      <td>-0.076479</td>\n",
       "      <td>-0.078774</td>\n",
       "      <td>0.097534</td>\n",
       "      <td>1.000000</td>\n",
       "      <td>0.141137</td>\n",
       "      <td>0.025958</td>\n",
       "      <td>0.119378</td>\n",
       "      <td>-0.014640</td>\n",
       "      <td>-0.000952</td>\n",
       "      <td>...</td>\n",
       "      <td>0.044564</td>\n",
       "      <td>0.037758</td>\n",
       "      <td>-0.008610</td>\n",
       "      <td>0.045749</td>\n",
       "      <td>-0.006947</td>\n",
       "      <td>-0.008703</td>\n",
       "      <td>0.056147</td>\n",
       "      <td>0.004603</td>\n",
       "      <td>-0.014383</td>\n",
       "      <td>0.060033</td>\n",
       "    </tr>\n",
       "    <tr>\n",
       "      <th>numSpecial</th>\n",
       "      <td>0.052514</td>\n",
       "      <td>-0.065814</td>\n",
       "      <td>-0.066030</td>\n",
       "      <td>0.515935</td>\n",
       "      <td>0.141137</td>\n",
       "      <td>1.000000</td>\n",
       "      <td>0.147115</td>\n",
       "      <td>0.179999</td>\n",
       "      <td>0.225652</td>\n",
       "      <td>0.133610</td>\n",
       "      <td>...</td>\n",
       "      <td>-0.010446</td>\n",
       "      <td>0.006047</td>\n",
       "      <td>-0.033750</td>\n",
       "      <td>-0.043118</td>\n",
       "      <td>-0.029009</td>\n",
       "      <td>-0.041416</td>\n",
       "      <td>-0.040177</td>\n",
       "      <td>-0.047868</td>\n",
       "      <td>-0.028096</td>\n",
       "      <td>-0.052553</td>\n",
       "    </tr>\n",
       "    <tr>\n",
       "      <th>numEmoticons</th>\n",
       "      <td>-0.001485</td>\n",
       "      <td>0.009545</td>\n",
       "      <td>0.010322</td>\n",
       "      <td>0.087628</td>\n",
       "      <td>0.025958</td>\n",
       "      <td>0.147115</td>\n",
       "      <td>1.000000</td>\n",
       "      <td>-0.001641</td>\n",
       "      <td>0.006746</td>\n",
       "      <td>0.003563</td>\n",
       "      <td>...</td>\n",
       "      <td>-0.002114</td>\n",
       "      <td>-0.008583</td>\n",
       "      <td>-0.008957</td>\n",
       "      <td>-0.017147</td>\n",
       "      <td>-0.011226</td>\n",
       "      <td>-0.011545</td>\n",
       "      <td>-0.018673</td>\n",
       "      <td>-0.013036</td>\n",
       "      <td>-0.010707</td>\n",
       "      <td>-0.010519</td>\n",
       "    </tr>\n",
       "    <tr>\n",
       "      <th>numMultiExclamations</th>\n",
       "      <td>0.067462</td>\n",
       "      <td>-0.068972</td>\n",
       "      <td>-0.068536</td>\n",
       "      <td>0.338409</td>\n",
       "      <td>0.119378</td>\n",
       "      <td>0.179999</td>\n",
       "      <td>-0.001641</td>\n",
       "      <td>1.000000</td>\n",
       "      <td>-0.018678</td>\n",
       "      <td>0.011043</td>\n",
       "      <td>...</td>\n",
       "      <td>0.025107</td>\n",
       "      <td>0.032143</td>\n",
       "      <td>-0.020756</td>\n",
       "      <td>0.009608</td>\n",
       "      <td>-0.016257</td>\n",
       "      <td>-0.023592</td>\n",
       "      <td>0.012888</td>\n",
       "      <td>-0.021782</td>\n",
       "      <td>0.002615</td>\n",
       "      <td>0.001752</td>\n",
       "    </tr>\n",
       "    <tr>\n",
       "      <th>numMultiStopMarks</th>\n",
       "      <td>-0.035491</td>\n",
       "      <td>-0.010923</td>\n",
       "      <td>-0.008107</td>\n",
       "      <td>0.018809</td>\n",
       "      <td>-0.014640</td>\n",
       "      <td>0.225652</td>\n",
       "      <td>0.006746</td>\n",
       "      <td>-0.018678</td>\n",
       "      <td>1.000000</td>\n",
       "      <td>0.007600</td>\n",
       "      <td>...</td>\n",
       "      <td>-0.001794</td>\n",
       "      <td>-0.026888</td>\n",
       "      <td>0.020834</td>\n",
       "      <td>-0.024424</td>\n",
       "      <td>0.009639</td>\n",
       "      <td>0.016314</td>\n",
       "      <td>-0.030703</td>\n",
       "      <td>0.009501</td>\n",
       "      <td>-0.008355</td>\n",
       "      <td>-0.035293</td>\n",
       "    </tr>\n",
       "    <tr>\n",
       "      <th>numMultiQuestionMarks</th>\n",
       "      <td>0.000714</td>\n",
       "      <td>0.012764</td>\n",
       "      <td>0.012698</td>\n",
       "      <td>0.248967</td>\n",
       "      <td>-0.000952</td>\n",
       "      <td>0.133610</td>\n",
       "      <td>0.003563</td>\n",
       "      <td>0.011043</td>\n",
       "      <td>0.007600</td>\n",
       "      <td>1.000000</td>\n",
       "      <td>...</td>\n",
       "      <td>-0.002652</td>\n",
       "      <td>-0.005905</td>\n",
       "      <td>-0.009914</td>\n",
       "      <td>-0.021779</td>\n",
       "      <td>-0.012193</td>\n",
       "      <td>-0.011190</td>\n",
       "      <td>-0.022408</td>\n",
       "      <td>-0.014744</td>\n",
       "      <td>-0.015266</td>\n",
       "      <td>-0.020289</td>\n",
       "    </tr>\n",
       "    <tr>\n",
       "      <th>numPositiveWords</th>\n",
       "      <td>0.175564</td>\n",
       "      <td>-0.132388</td>\n",
       "      <td>-0.134107</td>\n",
       "      <td>-0.089545</td>\n",
       "      <td>0.033830</td>\n",
       "      <td>-0.020360</td>\n",
       "      <td>-0.019208</td>\n",
       "      <td>-0.005733</td>\n",
       "      <td>-0.025318</td>\n",
       "      <td>-0.023376</td>\n",
       "      <td>...</td>\n",
       "      <td>-0.007722</td>\n",
       "      <td>0.499521</td>\n",
       "      <td>-0.056710</td>\n",
       "      <td>0.308393</td>\n",
       "      <td>-0.057165</td>\n",
       "      <td>-0.070748</td>\n",
       "      <td>0.391235</td>\n",
       "      <td>-0.045281</td>\n",
       "      <td>0.246220</td>\n",
       "      <td>0.307254</td>\n",
       "    </tr>\n",
       "    <tr>\n",
       "      <th>numNegativeWords</th>\n",
       "      <td>-0.119098</td>\n",
       "      <td>-0.055240</td>\n",
       "      <td>-0.058074</td>\n",
       "      <td>-0.016374</td>\n",
       "      <td>-0.026496</td>\n",
       "      <td>-0.022948</td>\n",
       "      <td>-0.013274</td>\n",
       "      <td>-0.033049</td>\n",
       "      <td>0.028568</td>\n",
       "      <td>-0.016481</td>\n",
       "      <td>...</td>\n",
       "      <td>-0.018143</td>\n",
       "      <td>-0.443117</td>\n",
       "      <td>0.252937</td>\n",
       "      <td>-0.062270</td>\n",
       "      <td>0.331573</td>\n",
       "      <td>0.262401</td>\n",
       "      <td>-0.077596</td>\n",
       "      <td>0.316689</td>\n",
       "      <td>-0.043584</td>\n",
       "      <td>-0.065111</td>\n",
       "    </tr>\n",
       "    <tr>\n",
       "      <th>numNeutralWords</th>\n",
       "      <td>-0.101915</td>\n",
       "      <td>0.149825</td>\n",
       "      <td>0.151667</td>\n",
       "      <td>-0.169108</td>\n",
       "      <td>-0.074593</td>\n",
       "      <td>-0.049725</td>\n",
       "      <td>-0.121807</td>\n",
       "      <td>-0.300665</td>\n",
       "      <td>0.093263</td>\n",
       "      <td>-0.123455</td>\n",
       "      <td>...</td>\n",
       "      <td>0.002206</td>\n",
       "      <td>-0.175957</td>\n",
       "      <td>-0.063455</td>\n",
       "      <td>-0.197913</td>\n",
       "      <td>-0.102845</td>\n",
       "      <td>-0.052831</td>\n",
       "      <td>-0.256065</td>\n",
       "      <td>-0.101352</td>\n",
       "      <td>-0.159423</td>\n",
       "      <td>-0.196072</td>\n",
       "    </tr>\n",
       "    <tr>\n",
       "      <th>numSlangs</th>\n",
       "      <td>0.034151</td>\n",
       "      <td>-0.036766</td>\n",
       "      <td>-0.037018</td>\n",
       "      <td>0.072104</td>\n",
       "      <td>0.051456</td>\n",
       "      <td>-0.002222</td>\n",
       "      <td>-0.005181</td>\n",
       "      <td>0.010092</td>\n",
       "      <td>0.017234</td>\n",
       "      <td>0.012011</td>\n",
       "      <td>...</td>\n",
       "      <td>0.011954</td>\n",
       "      <td>0.059987</td>\n",
       "      <td>-0.007360</td>\n",
       "      <td>-0.027474</td>\n",
       "      <td>-0.009123</td>\n",
       "      <td>-0.023324</td>\n",
       "      <td>-0.022962</td>\n",
       "      <td>-0.026672</td>\n",
       "      <td>-0.030264</td>\n",
       "      <td>-0.023412</td>\n",
       "    </tr>\n",
       "    <tr>\n",
       "      <th>numElongated</th>\n",
       "      <td>0.023862</td>\n",
       "      <td>-0.098221</td>\n",
       "      <td>-0.100827</td>\n",
       "      <td>-0.095751</td>\n",
       "      <td>0.044564</td>\n",
       "      <td>-0.010446</td>\n",
       "      <td>-0.002114</td>\n",
       "      <td>0.025107</td>\n",
       "      <td>-0.001794</td>\n",
       "      <td>-0.002652</td>\n",
       "      <td>...</td>\n",
       "      <td>1.000000</td>\n",
       "      <td>-0.004777</td>\n",
       "      <td>-0.011800</td>\n",
       "      <td>-0.015410</td>\n",
       "      <td>-0.010552</td>\n",
       "      <td>-0.019480</td>\n",
       "      <td>-0.014698</td>\n",
       "      <td>-0.016968</td>\n",
       "      <td>-0.019572</td>\n",
       "      <td>-0.020347</td>\n",
       "    </tr>\n",
       "    <tr>\n",
       "      <th>mostSignificantSentimentScore</th>\n",
       "      <td>0.167946</td>\n",
       "      <td>-0.066174</td>\n",
       "      <td>-0.066240</td>\n",
       "      <td>-0.012504</td>\n",
       "      <td>0.037758</td>\n",
       "      <td>0.006047</td>\n",
       "      <td>-0.008583</td>\n",
       "      <td>0.032143</td>\n",
       "      <td>-0.026888</td>\n",
       "      <td>-0.005905</td>\n",
       "      <td>...</td>\n",
       "      <td>-0.004777</td>\n",
       "      <td>1.000000</td>\n",
       "      <td>-0.187920</td>\n",
       "      <td>0.248147</td>\n",
       "      <td>-0.227104</td>\n",
       "      <td>-0.187899</td>\n",
       "      <td>0.325416</td>\n",
       "      <td>-0.172140</td>\n",
       "      <td>0.162114</td>\n",
       "      <td>0.259160</td>\n",
       "    </tr>\n",
       "    <tr>\n",
       "      <th>num_angerWords</th>\n",
       "      <td>-0.046019</td>\n",
       "      <td>-0.029882</td>\n",
       "      <td>-0.032443</td>\n",
       "      <td>-0.032488</td>\n",
       "      <td>-0.008610</td>\n",
       "      <td>-0.033750</td>\n",
       "      <td>-0.008957</td>\n",
       "      <td>-0.020756</td>\n",
       "      <td>0.020834</td>\n",
       "      <td>-0.009914</td>\n",
       "      <td>...</td>\n",
       "      <td>-0.011800</td>\n",
       "      <td>-0.187920</td>\n",
       "      <td>1.000000</td>\n",
       "      <td>0.014746</td>\n",
       "      <td>0.662727</td>\n",
       "      <td>0.576068</td>\n",
       "      <td>0.003865</td>\n",
       "      <td>0.526682</td>\n",
       "      <td>0.091949</td>\n",
       "      <td>0.026293</td>\n",
       "    </tr>\n",
       "    <tr>\n",
       "      <th>num_anticipationWords</th>\n",
       "      <td>0.112317</td>\n",
       "      <td>-0.078050</td>\n",
       "      <td>-0.081351</td>\n",
       "      <td>-0.088462</td>\n",
       "      <td>0.045749</td>\n",
       "      <td>-0.043118</td>\n",
       "      <td>-0.017147</td>\n",
       "      <td>0.009608</td>\n",
       "      <td>-0.024424</td>\n",
       "      <td>-0.021779</td>\n",
       "      <td>...</td>\n",
       "      <td>-0.015410</td>\n",
       "      <td>0.248147</td>\n",
       "      <td>0.014746</td>\n",
       "      <td>1.000000</td>\n",
       "      <td>0.020922</td>\n",
       "      <td>0.046706</td>\n",
       "      <td>0.784689</td>\n",
       "      <td>0.103923</td>\n",
       "      <td>0.609418</td>\n",
       "      <td>0.724568</td>\n",
       "    </tr>\n",
       "    <tr>\n",
       "      <th>num_disgustWords</th>\n",
       "      <td>-0.046033</td>\n",
       "      <td>-0.043966</td>\n",
       "      <td>-0.046146</td>\n",
       "      <td>-0.024028</td>\n",
       "      <td>-0.006947</td>\n",
       "      <td>-0.029009</td>\n",
       "      <td>-0.011226</td>\n",
       "      <td>-0.016257</td>\n",
       "      <td>0.009639</td>\n",
       "      <td>-0.012193</td>\n",
       "      <td>...</td>\n",
       "      <td>-0.010552</td>\n",
       "      <td>-0.227104</td>\n",
       "      <td>0.662727</td>\n",
       "      <td>0.020922</td>\n",
       "      <td>1.000000</td>\n",
       "      <td>0.474879</td>\n",
       "      <td>0.011473</td>\n",
       "      <td>0.509379</td>\n",
       "      <td>0.082185</td>\n",
       "      <td>0.030551</td>\n",
       "    </tr>\n",
       "    <tr>\n",
       "      <th>num_fearWords</th>\n",
       "      <td>-0.063368</td>\n",
       "      <td>-0.027748</td>\n",
       "      <td>-0.030610</td>\n",
       "      <td>-0.041858</td>\n",
       "      <td>-0.008703</td>\n",
       "      <td>-0.041416</td>\n",
       "      <td>-0.011545</td>\n",
       "      <td>-0.023592</td>\n",
       "      <td>0.016314</td>\n",
       "      <td>-0.011190</td>\n",
       "      <td>...</td>\n",
       "      <td>-0.019480</td>\n",
       "      <td>-0.187899</td>\n",
       "      <td>0.576068</td>\n",
       "      <td>0.046706</td>\n",
       "      <td>0.474879</td>\n",
       "      <td>1.000000</td>\n",
       "      <td>0.012150</td>\n",
       "      <td>0.609103</td>\n",
       "      <td>0.081860</td>\n",
       "      <td>0.033808</td>\n",
       "    </tr>\n",
       "    <tr>\n",
       "      <th>num_joyWords</th>\n",
       "      <td>0.127977</td>\n",
       "      <td>-0.096070</td>\n",
       "      <td>-0.100278</td>\n",
       "      <td>-0.076160</td>\n",
       "      <td>0.056147</td>\n",
       "      <td>-0.040177</td>\n",
       "      <td>-0.018673</td>\n",
       "      <td>0.012888</td>\n",
       "      <td>-0.030703</td>\n",
       "      <td>-0.022408</td>\n",
       "      <td>...</td>\n",
       "      <td>-0.014698</td>\n",
       "      <td>0.325416</td>\n",
       "      <td>0.003865</td>\n",
       "      <td>0.784689</td>\n",
       "      <td>0.011473</td>\n",
       "      <td>0.012150</td>\n",
       "      <td>1.000000</td>\n",
       "      <td>0.103920</td>\n",
       "      <td>0.596261</td>\n",
       "      <td>0.782025</td>\n",
       "    </tr>\n",
       "    <tr>\n",
       "      <th>num_sadnessWords</th>\n",
       "      <td>-0.086081</td>\n",
       "      <td>-0.059234</td>\n",
       "      <td>-0.062608</td>\n",
       "      <td>-0.040000</td>\n",
       "      <td>0.004603</td>\n",
       "      <td>-0.047868</td>\n",
       "      <td>-0.013036</td>\n",
       "      <td>-0.021782</td>\n",
       "      <td>0.009501</td>\n",
       "      <td>-0.014744</td>\n",
       "      <td>...</td>\n",
       "      <td>-0.016968</td>\n",
       "      <td>-0.172140</td>\n",
       "      <td>0.526682</td>\n",
       "      <td>0.103923</td>\n",
       "      <td>0.509379</td>\n",
       "      <td>0.609103</td>\n",
       "      <td>0.103920</td>\n",
       "      <td>1.000000</td>\n",
       "      <td>0.090831</td>\n",
       "      <td>0.124363</td>\n",
       "    </tr>\n",
       "    <tr>\n",
       "      <th>num_surpriseWords</th>\n",
       "      <td>0.071471</td>\n",
       "      <td>-0.056046</td>\n",
       "      <td>-0.057622</td>\n",
       "      <td>-0.062683</td>\n",
       "      <td>-0.014383</td>\n",
       "      <td>-0.028096</td>\n",
       "      <td>-0.010707</td>\n",
       "      <td>0.002615</td>\n",
       "      <td>-0.008355</td>\n",
       "      <td>-0.015266</td>\n",
       "      <td>...</td>\n",
       "      <td>-0.019572</td>\n",
       "      <td>0.162114</td>\n",
       "      <td>0.091949</td>\n",
       "      <td>0.609418</td>\n",
       "      <td>0.082185</td>\n",
       "      <td>0.081860</td>\n",
       "      <td>0.596261</td>\n",
       "      <td>0.090831</td>\n",
       "      <td>1.000000</td>\n",
       "      <td>0.544297</td>\n",
       "    </tr>\n",
       "    <tr>\n",
       "      <th>num_trustWords</th>\n",
       "      <td>0.093210</td>\n",
       "      <td>-0.076687</td>\n",
       "      <td>-0.081145</td>\n",
       "      <td>-0.094233</td>\n",
       "      <td>0.060033</td>\n",
       "      <td>-0.052553</td>\n",
       "      <td>-0.010519</td>\n",
       "      <td>0.001752</td>\n",
       "      <td>-0.035293</td>\n",
       "      <td>-0.020289</td>\n",
       "      <td>...</td>\n",
       "      <td>-0.020347</td>\n",
       "      <td>0.259160</td>\n",
       "      <td>0.026293</td>\n",
       "      <td>0.724568</td>\n",
       "      <td>0.030551</td>\n",
       "      <td>0.033808</td>\n",
       "      <td>0.782025</td>\n",
       "      <td>0.124363</td>\n",
       "      <td>0.544297</td>\n",
       "      <td>1.000000</td>\n",
       "    </tr>\n",
       "  </tbody>\n",
       "</table>\n",
       "<p>24 rows × 24 columns</p>\n",
       "</div>"
      ],
      "text/plain": [
       "                               sentiment    length  binnedLength  numWords  \\\n",
       "sentiment                       1.000000  0.027471      0.029454 -0.011595   \n",
       "length                          0.027471  1.000000      0.990519 -0.143882   \n",
       "binnedLength                    0.029454  0.990519      1.000000 -0.145927   \n",
       "numWords                       -0.011595 -0.143882     -0.145927  1.000000   \n",
       "numCaps                         0.036482 -0.076479     -0.078774  0.097534   \n",
       "numSpecial                      0.052514 -0.065814     -0.066030  0.515935   \n",
       "numEmoticons                   -0.001485  0.009545      0.010322  0.087628   \n",
       "numMultiExclamations            0.067462 -0.068972     -0.068536  0.338409   \n",
       "numMultiStopMarks              -0.035491 -0.010923     -0.008107  0.018809   \n",
       "numMultiQuestionMarks           0.000714  0.012764      0.012698  0.248967   \n",
       "numPositiveWords                0.175564 -0.132388     -0.134107 -0.089545   \n",
       "numNegativeWords               -0.119098 -0.055240     -0.058074 -0.016374   \n",
       "numNeutralWords                -0.101915  0.149825      0.151667 -0.169108   \n",
       "numSlangs                       0.034151 -0.036766     -0.037018  0.072104   \n",
       "numElongated                    0.023862 -0.098221     -0.100827 -0.095751   \n",
       "mostSignificantSentimentScore   0.167946 -0.066174     -0.066240 -0.012504   \n",
       "num_angerWords                 -0.046019 -0.029882     -0.032443 -0.032488   \n",
       "num_anticipationWords           0.112317 -0.078050     -0.081351 -0.088462   \n",
       "num_disgustWords               -0.046033 -0.043966     -0.046146 -0.024028   \n",
       "num_fearWords                  -0.063368 -0.027748     -0.030610 -0.041858   \n",
       "num_joyWords                    0.127977 -0.096070     -0.100278 -0.076160   \n",
       "num_sadnessWords               -0.086081 -0.059234     -0.062608 -0.040000   \n",
       "num_surpriseWords               0.071471 -0.056046     -0.057622 -0.062683   \n",
       "num_trustWords                  0.093210 -0.076687     -0.081145 -0.094233   \n",
       "\n",
       "                                numCaps  numSpecial  numEmoticons  \\\n",
       "sentiment                      0.036482    0.052514     -0.001485   \n",
       "length                        -0.076479   -0.065814      0.009545   \n",
       "binnedLength                  -0.078774   -0.066030      0.010322   \n",
       "numWords                       0.097534    0.515935      0.087628   \n",
       "numCaps                        1.000000    0.141137      0.025958   \n",
       "numSpecial                     0.141137    1.000000      0.147115   \n",
       "numEmoticons                   0.025958    0.147115      1.000000   \n",
       "numMultiExclamations           0.119378    0.179999     -0.001641   \n",
       "numMultiStopMarks             -0.014640    0.225652      0.006746   \n",
       "numMultiQuestionMarks         -0.000952    0.133610      0.003563   \n",
       "numPositiveWords               0.033830   -0.020360     -0.019208   \n",
       "numNegativeWords              -0.026496   -0.022948     -0.013274   \n",
       "numNeutralWords               -0.074593   -0.049725     -0.121807   \n",
       "numSlangs                      0.051456   -0.002222     -0.005181   \n",
       "numElongated                   0.044564   -0.010446     -0.002114   \n",
       "mostSignificantSentimentScore  0.037758    0.006047     -0.008583   \n",
       "num_angerWords                -0.008610   -0.033750     -0.008957   \n",
       "num_anticipationWords          0.045749   -0.043118     -0.017147   \n",
       "num_disgustWords              -0.006947   -0.029009     -0.011226   \n",
       "num_fearWords                 -0.008703   -0.041416     -0.011545   \n",
       "num_joyWords                   0.056147   -0.040177     -0.018673   \n",
       "num_sadnessWords               0.004603   -0.047868     -0.013036   \n",
       "num_surpriseWords             -0.014383   -0.028096     -0.010707   \n",
       "num_trustWords                 0.060033   -0.052553     -0.010519   \n",
       "\n",
       "                               numMultiExclamations  numMultiStopMarks  \\\n",
       "sentiment                                  0.067462          -0.035491   \n",
       "length                                    -0.068972          -0.010923   \n",
       "binnedLength                              -0.068536          -0.008107   \n",
       "numWords                                   0.338409           0.018809   \n",
       "numCaps                                    0.119378          -0.014640   \n",
       "numSpecial                                 0.179999           0.225652   \n",
       "numEmoticons                              -0.001641           0.006746   \n",
       "numMultiExclamations                       1.000000          -0.018678   \n",
       "numMultiStopMarks                         -0.018678           1.000000   \n",
       "numMultiQuestionMarks                      0.011043           0.007600   \n",
       "numPositiveWords                          -0.005733          -0.025318   \n",
       "numNegativeWords                          -0.033049           0.028568   \n",
       "numNeutralWords                           -0.300665           0.093263   \n",
       "numSlangs                                  0.010092           0.017234   \n",
       "numElongated                               0.025107          -0.001794   \n",
       "mostSignificantSentimentScore              0.032143          -0.026888   \n",
       "num_angerWords                            -0.020756           0.020834   \n",
       "num_anticipationWords                      0.009608          -0.024424   \n",
       "num_disgustWords                          -0.016257           0.009639   \n",
       "num_fearWords                             -0.023592           0.016314   \n",
       "num_joyWords                               0.012888          -0.030703   \n",
       "num_sadnessWords                          -0.021782           0.009501   \n",
       "num_surpriseWords                          0.002615          -0.008355   \n",
       "num_trustWords                             0.001752          -0.035293   \n",
       "\n",
       "                               numMultiQuestionMarks       ...        \\\n",
       "sentiment                                   0.000714       ...         \n",
       "length                                      0.012764       ...         \n",
       "binnedLength                                0.012698       ...         \n",
       "numWords                                    0.248967       ...         \n",
       "numCaps                                    -0.000952       ...         \n",
       "numSpecial                                  0.133610       ...         \n",
       "numEmoticons                                0.003563       ...         \n",
       "numMultiExclamations                        0.011043       ...         \n",
       "numMultiStopMarks                           0.007600       ...         \n",
       "numMultiQuestionMarks                       1.000000       ...         \n",
       "numPositiveWords                           -0.023376       ...         \n",
       "numNegativeWords                           -0.016481       ...         \n",
       "numNeutralWords                            -0.123455       ...         \n",
       "numSlangs                                   0.012011       ...         \n",
       "numElongated                               -0.002652       ...         \n",
       "mostSignificantSentimentScore              -0.005905       ...         \n",
       "num_angerWords                             -0.009914       ...         \n",
       "num_anticipationWords                      -0.021779       ...         \n",
       "num_disgustWords                           -0.012193       ...         \n",
       "num_fearWords                              -0.011190       ...         \n",
       "num_joyWords                               -0.022408       ...         \n",
       "num_sadnessWords                           -0.014744       ...         \n",
       "num_surpriseWords                          -0.015266       ...         \n",
       "num_trustWords                             -0.020289       ...         \n",
       "\n",
       "                               numElongated  mostSignificantSentimentScore  \\\n",
       "sentiment                          0.023862                       0.167946   \n",
       "length                            -0.098221                      -0.066174   \n",
       "binnedLength                      -0.100827                      -0.066240   \n",
       "numWords                          -0.095751                      -0.012504   \n",
       "numCaps                            0.044564                       0.037758   \n",
       "numSpecial                        -0.010446                       0.006047   \n",
       "numEmoticons                      -0.002114                      -0.008583   \n",
       "numMultiExclamations               0.025107                       0.032143   \n",
       "numMultiStopMarks                 -0.001794                      -0.026888   \n",
       "numMultiQuestionMarks             -0.002652                      -0.005905   \n",
       "numPositiveWords                  -0.007722                       0.499521   \n",
       "numNegativeWords                  -0.018143                      -0.443117   \n",
       "numNeutralWords                    0.002206                      -0.175957   \n",
       "numSlangs                          0.011954                       0.059987   \n",
       "numElongated                       1.000000                      -0.004777   \n",
       "mostSignificantSentimentScore     -0.004777                       1.000000   \n",
       "num_angerWords                    -0.011800                      -0.187920   \n",
       "num_anticipationWords             -0.015410                       0.248147   \n",
       "num_disgustWords                  -0.010552                      -0.227104   \n",
       "num_fearWords                     -0.019480                      -0.187899   \n",
       "num_joyWords                      -0.014698                       0.325416   \n",
       "num_sadnessWords                  -0.016968                      -0.172140   \n",
       "num_surpriseWords                 -0.019572                       0.162114   \n",
       "num_trustWords                    -0.020347                       0.259160   \n",
       "\n",
       "                               num_angerWords  num_anticipationWords  \\\n",
       "sentiment                           -0.046019               0.112317   \n",
       "length                              -0.029882              -0.078050   \n",
       "binnedLength                        -0.032443              -0.081351   \n",
       "numWords                            -0.032488              -0.088462   \n",
       "numCaps                             -0.008610               0.045749   \n",
       "numSpecial                          -0.033750              -0.043118   \n",
       "numEmoticons                        -0.008957              -0.017147   \n",
       "numMultiExclamations                -0.020756               0.009608   \n",
       "numMultiStopMarks                    0.020834              -0.024424   \n",
       "numMultiQuestionMarks               -0.009914              -0.021779   \n",
       "numPositiveWords                    -0.056710               0.308393   \n",
       "numNegativeWords                     0.252937              -0.062270   \n",
       "numNeutralWords                     -0.063455              -0.197913   \n",
       "numSlangs                           -0.007360              -0.027474   \n",
       "numElongated                        -0.011800              -0.015410   \n",
       "mostSignificantSentimentScore       -0.187920               0.248147   \n",
       "num_angerWords                       1.000000               0.014746   \n",
       "num_anticipationWords                0.014746               1.000000   \n",
       "num_disgustWords                     0.662727               0.020922   \n",
       "num_fearWords                        0.576068               0.046706   \n",
       "num_joyWords                         0.003865               0.784689   \n",
       "num_sadnessWords                     0.526682               0.103923   \n",
       "num_surpriseWords                    0.091949               0.609418   \n",
       "num_trustWords                       0.026293               0.724568   \n",
       "\n",
       "                               num_disgustWords  num_fearWords  num_joyWords  \\\n",
       "sentiment                             -0.046033      -0.063368      0.127977   \n",
       "length                                -0.043966      -0.027748     -0.096070   \n",
       "binnedLength                          -0.046146      -0.030610     -0.100278   \n",
       "numWords                              -0.024028      -0.041858     -0.076160   \n",
       "numCaps                               -0.006947      -0.008703      0.056147   \n",
       "numSpecial                            -0.029009      -0.041416     -0.040177   \n",
       "numEmoticons                          -0.011226      -0.011545     -0.018673   \n",
       "numMultiExclamations                  -0.016257      -0.023592      0.012888   \n",
       "numMultiStopMarks                      0.009639       0.016314     -0.030703   \n",
       "numMultiQuestionMarks                 -0.012193      -0.011190     -0.022408   \n",
       "numPositiveWords                      -0.057165      -0.070748      0.391235   \n",
       "numNegativeWords                       0.331573       0.262401     -0.077596   \n",
       "numNeutralWords                       -0.102845      -0.052831     -0.256065   \n",
       "numSlangs                             -0.009123      -0.023324     -0.022962   \n",
       "numElongated                          -0.010552      -0.019480     -0.014698   \n",
       "mostSignificantSentimentScore         -0.227104      -0.187899      0.325416   \n",
       "num_angerWords                         0.662727       0.576068      0.003865   \n",
       "num_anticipationWords                  0.020922       0.046706      0.784689   \n",
       "num_disgustWords                       1.000000       0.474879      0.011473   \n",
       "num_fearWords                          0.474879       1.000000      0.012150   \n",
       "num_joyWords                           0.011473       0.012150      1.000000   \n",
       "num_sadnessWords                       0.509379       0.609103      0.103920   \n",
       "num_surpriseWords                      0.082185       0.081860      0.596261   \n",
       "num_trustWords                         0.030551       0.033808      0.782025   \n",
       "\n",
       "                               num_sadnessWords  num_surpriseWords  \\\n",
       "sentiment                             -0.086081           0.071471   \n",
       "length                                -0.059234          -0.056046   \n",
       "binnedLength                          -0.062608          -0.057622   \n",
       "numWords                              -0.040000          -0.062683   \n",
       "numCaps                                0.004603          -0.014383   \n",
       "numSpecial                            -0.047868          -0.028096   \n",
       "numEmoticons                          -0.013036          -0.010707   \n",
       "numMultiExclamations                  -0.021782           0.002615   \n",
       "numMultiStopMarks                      0.009501          -0.008355   \n",
       "numMultiQuestionMarks                 -0.014744          -0.015266   \n",
       "numPositiveWords                      -0.045281           0.246220   \n",
       "numNegativeWords                       0.316689          -0.043584   \n",
       "numNeutralWords                       -0.101352          -0.159423   \n",
       "numSlangs                             -0.026672          -0.030264   \n",
       "numElongated                          -0.016968          -0.019572   \n",
       "mostSignificantSentimentScore         -0.172140           0.162114   \n",
       "num_angerWords                         0.526682           0.091949   \n",
       "num_anticipationWords                  0.103923           0.609418   \n",
       "num_disgustWords                       0.509379           0.082185   \n",
       "num_fearWords                          0.609103           0.081860   \n",
       "num_joyWords                           0.103920           0.596261   \n",
       "num_sadnessWords                       1.000000           0.090831   \n",
       "num_surpriseWords                      0.090831           1.000000   \n",
       "num_trustWords                         0.124363           0.544297   \n",
       "\n",
       "                               num_trustWords  \n",
       "sentiment                            0.093210  \n",
       "length                              -0.076687  \n",
       "binnedLength                        -0.081145  \n",
       "numWords                            -0.094233  \n",
       "numCaps                              0.060033  \n",
       "numSpecial                          -0.052553  \n",
       "numEmoticons                        -0.010519  \n",
       "numMultiExclamations                 0.001752  \n",
       "numMultiStopMarks                   -0.035293  \n",
       "numMultiQuestionMarks               -0.020289  \n",
       "numPositiveWords                     0.307254  \n",
       "numNegativeWords                    -0.065111  \n",
       "numNeutralWords                     -0.196072  \n",
       "numSlangs                           -0.023412  \n",
       "numElongated                        -0.020347  \n",
       "mostSignificantSentimentScore        0.259160  \n",
       "num_angerWords                       0.026293  \n",
       "num_anticipationWords                0.724568  \n",
       "num_disgustWords                     0.030551  \n",
       "num_fearWords                        0.033808  \n",
       "num_joyWords                         0.782025  \n",
       "num_sadnessWords                     0.124363  \n",
       "num_surpriseWords                    0.544297  \n",
       "num_trustWords                       1.000000  \n",
       "\n",
       "[24 rows x 24 columns]"
      ]
     },
     "execution_count": 108,
     "metadata": {},
     "output_type": "execute_result"
    }
   ],
   "source": [
    "corr = df.drop(columns=['Text']).corr()\n",
    "corr"
   ]
  },
  {
   "cell_type": "code",
   "execution_count": 109,
   "metadata": {},
   "outputs": [
    {
     "data": {
      "text/plain": [
       "<matplotlib.axes._subplots.AxesSubplot at 0x1a2da79710>"
      ]
     },
     "execution_count": 109,
     "metadata": {},
     "output_type": "execute_result"
    },
    {
     "data": {
      "image/png": "[encoded data removed]",
      "text/plain": [
       "<Figure size 792x648 with 2 Axes>"
      ]
     },
     "metadata": {},
     "output_type": "display_data"
    }
   ],
   "source": [
    "sns.set(style=\"white\")\n",
    "\n",
    "# Generate a mask for the upper triangle\n",
    "mask = np.zeros_like(corr, dtype=np.bool)\n",
    "mask[np.triu_indices_from(mask)] = True\n",
    "\n",
    "# Set up the matplotlib figure\n",
    "f, ax = plt.subplots(figsize=(11, 9))\n",
    "\n",
    "# Generate a custom diverging colormap\n",
    "cmap = sns.diverging_palette(220, 10, as_cmap=True)\n",
    "\n",
    "# Draw the heatmap with the mask and correct aspect ratio\n",
    "sns.heatmap(corr, mask=mask, cmap=cmap, vmax=.3, center=0,\n",
    "            square=True, linewidths=.5, cbar_kws={\"shrink\": .5})"
   ]
  },
  {
   "cell_type": "markdown",
   "metadata": {},
   "source": [
    "# Write to file"
   ]
  },
  {
   "cell_type": "code",
   "execution_count": 110,
   "metadata": {},
   "outputs": [
    {
     "data": {
      "text/html": [
       "<div>\n",
       "<style scoped>\n",
       "    .dataframe tbody tr th:only-of-type {\n",
       "        vertical-align: middle;\n",
       "    }\n",
       "\n",
       "    .dataframe tbody tr th {\n",
       "        vertical-align: top;\n",
       "    }\n",
       "\n",
       "    .dataframe thead th {\n",
       "        text-align: right;\n",
       "    }\n",
       "</style>\n",
       "<table border=\"1\" class=\"dataframe\">\n",
       "  <thead>\n",
       "    <tr style=\"text-align: right;\">\n",
       "      <th></th>\n",
       "      <th>sentiment</th>\n",
       "      <th>Text</th>\n",
       "      <th>length</th>\n",
       "      <th>binnedLength</th>\n",
       "      <th>numWords</th>\n",
       "      <th>numCaps</th>\n",
       "      <th>numSpecial</th>\n",
       "      <th>numEmoticons</th>\n",
       "      <th>numMultiExclamations</th>\n",
       "      <th>numMultiStopMarks</th>\n",
       "      <th>...</th>\n",
       "      <th>numElongated</th>\n",
       "      <th>mostSignificantSentimentScore</th>\n",
       "      <th>num_angerWords</th>\n",
       "      <th>num_anticipationWords</th>\n",
       "      <th>num_disgustWords</th>\n",
       "      <th>num_fearWords</th>\n",
       "      <th>num_joyWords</th>\n",
       "      <th>num_sadnessWords</th>\n",
       "      <th>num_surpriseWords</th>\n",
       "      <th>num_trustWords</th>\n",
       "    </tr>\n",
       "  </thead>\n",
       "  <tbody>\n",
       "    <tr>\n",
       "      <th>0</th>\n",
       "      <td>2</td>\n",
       "      <td>she had another song out recently but it did not get that much play</td>\n",
       "      <td>0.000679</td>\n",
       "      <td>6</td>\n",
       "      <td>0.208955</td>\n",
       "      <td>0.000000</td>\n",
       "      <td>0.000000</td>\n",
       "      <td>0.000000</td>\n",
       "      <td>0.0</td>\n",
       "      <td>0.000000</td>\n",
       "      <td>...</td>\n",
       "      <td>0.000000</td>\n",
       "      <td>0.200000</td>\n",
       "      <td>0.000000</td>\n",
       "      <td>0.000000</td>\n",
       "      <td>0.000000</td>\n",
       "      <td>0.000000</td>\n",
       "      <td>0.000000</td>\n",
       "      <td>0.000000</td>\n",
       "      <td>0.000000</td>\n",
       "      <td>0.000000</td>\n",
       "    </tr>\n",
       "    <tr>\n",
       "      <th>1</th>\n",
       "      <td>2</td>\n",
       "      <td>wellity! i think i ama gonna clean my room | gay. i need to read a good book. sense and sensibility here we come! beat the lily</td>\n",
       "      <td>0.418487</td>\n",
       "      <td>12</td>\n",
       "      <td>0.257812</td>\n",
       "      <td>0.093750</td>\n",
       "      <td>0.039062</td>\n",
       "      <td>0.007812</td>\n",
       "      <td>0.0</td>\n",
       "      <td>0.000000</td>\n",
       "      <td>...</td>\n",
       "      <td>0.000000</td>\n",
       "      <td>0.416667</td>\n",
       "      <td>0.000000</td>\n",
       "      <td>0.030303</td>\n",
       "      <td>0.000000</td>\n",
       "      <td>0.000000</td>\n",
       "      <td>0.060606</td>\n",
       "      <td>0.000000</td>\n",
       "      <td>0.030303</td>\n",
       "      <td>0.060606</td>\n",
       "    </tr>\n",
       "    <tr>\n",
       "      <th>2</th>\n",
       "      <td>2</td>\n",
       "      <td>bug in damn cod system link. my map pack isnt working</td>\n",
       "      <td>-0.095211</td>\n",
       "      <td>5</td>\n",
       "      <td>0.226415</td>\n",
       "      <td>0.037736</td>\n",
       "      <td>0.018868</td>\n",
       "      <td>0.000000</td>\n",
       "      <td>0.0</td>\n",
       "      <td>0.000000</td>\n",
       "      <td>...</td>\n",
       "      <td>0.000000</td>\n",
       "      <td>0.000000</td>\n",
       "      <td>0.083333</td>\n",
       "      <td>0.000000</td>\n",
       "      <td>0.166667</td>\n",
       "      <td>0.083333</td>\n",
       "      <td>0.000000</td>\n",
       "      <td>0.000000</td>\n",
       "      <td>0.000000</td>\n",
       "      <td>0.083333</td>\n",
       "    </tr>\n",
       "    <tr>\n",
       "      <th>3</th>\n",
       "      <td>8</td>\n",
       "      <td>weeooow, i feel fat multiStop  i remember when i used to weigh that much  pfffffffffffffffffffffftttttttt long ti ame ago, hahaha</td>\n",
       "      <td>0.377392</td>\n",
       "      <td>11</td>\n",
       "      <td>0.188525</td>\n",
       "      <td>0.000000</td>\n",
       "      <td>0.024590</td>\n",
       "      <td>0.000000</td>\n",
       "      <td>0.0</td>\n",
       "      <td>0.008197</td>\n",
       "      <td>...</td>\n",
       "      <td>0.086957</td>\n",
       "      <td>0.000000</td>\n",
       "      <td>0.000000</td>\n",
       "      <td>0.086957</td>\n",
       "      <td>0.043478</td>\n",
       "      <td>0.000000</td>\n",
       "      <td>0.000000</td>\n",
       "      <td>0.043478</td>\n",
       "      <td>0.000000</td>\n",
       "      <td>0.043478</td>\n",
       "    </tr>\n",
       "    <tr>\n",
       "      <th>4</th>\n",
       "      <td>7</td>\n",
       "      <td>mmmm now you are speaking my language! (unfortunately, in militant diet mode-am seriously thinking of  competiton-so no tb i guess</td>\n",
       "      <td>0.432186</td>\n",
       "      <td>12</td>\n",
       "      <td>0.176923</td>\n",
       "      <td>0.030769</td>\n",
       "      <td>0.023077</td>\n",
       "      <td>0.000000</td>\n",
       "      <td>0.0</td>\n",
       "      <td>0.000000</td>\n",
       "      <td>...</td>\n",
       "      <td>0.043478</td>\n",
       "      <td>0.000000</td>\n",
       "      <td>0.000000</td>\n",
       "      <td>0.000000</td>\n",
       "      <td>0.000000</td>\n",
       "      <td>0.000000</td>\n",
       "      <td>0.000000</td>\n",
       "      <td>0.000000</td>\n",
       "      <td>0.043478</td>\n",
       "      <td>0.000000</td>\n",
       "    </tr>\n",
       "  </tbody>\n",
       "</table>\n",
       "<p>5 rows × 25 columns</p>\n",
       "</div>"
      ],
      "text/plain": [
       "   sentiment  \\\n",
       "0          2   \n",
       "1          2   \n",
       "2          2   \n",
       "3          8   \n",
       "4          7   \n",
       "\n",
       "                                                                                                                                 Text  \\\n",
       "0                                                                 she had another song out recently but it did not get that much play   \n",
       "1     wellity! i think i ama gonna clean my room | gay. i need to read a good book. sense and sensibility here we come! beat the lily   \n",
       "2                                                                               bug in damn cod system link. my map pack isnt working   \n",
       "3   weeooow, i feel fat multiStop  i remember when i used to weigh that much  pfffffffffffffffffffffftttttttt long ti ame ago, hahaha   \n",
       "4  mmmm now you are speaking my language! (unfortunately, in militant diet mode-am seriously thinking of  competiton-so no tb i guess   \n",
       "\n",
       "     length  binnedLength  numWords   numCaps  numSpecial  numEmoticons  \\\n",
       "0  0.000679             6  0.208955  0.000000    0.000000      0.000000   \n",
       "1  0.418487            12  0.257812  0.093750    0.039062      0.007812   \n",
       "2 -0.095211             5  0.226415  0.037736    0.018868      0.000000   \n",
       "3  0.377392            11  0.188525  0.000000    0.024590      0.000000   \n",
       "4  0.432186            12  0.176923  0.030769    0.023077      0.000000   \n",
       "\n",
       "   numMultiExclamations  numMultiStopMarks       ...        numElongated  \\\n",
       "0                   0.0           0.000000       ...            0.000000   \n",
       "1                   0.0           0.000000       ...            0.000000   \n",
       "2                   0.0           0.000000       ...            0.000000   \n",
       "3                   0.0           0.008197       ...            0.086957   \n",
       "4                   0.0           0.000000       ...            0.043478   \n",
       "\n",
       "   mostSignificantSentimentScore  num_angerWords  num_anticipationWords  \\\n",
       "0                       0.200000        0.000000               0.000000   \n",
       "1                       0.416667        0.000000               0.030303   \n",
       "2                       0.000000        0.083333               0.000000   \n",
       "3                       0.000000        0.000000               0.086957   \n",
       "4                       0.000000        0.000000               0.000000   \n",
       "\n",
       "   num_disgustWords  num_fearWords  num_joyWords  num_sadnessWords  \\\n",
       "0          0.000000       0.000000      0.000000          0.000000   \n",
       "1          0.000000       0.000000      0.060606          0.000000   \n",
       "2          0.166667       0.083333      0.000000          0.000000   \n",
       "3          0.043478       0.000000      0.000000          0.043478   \n",
       "4          0.000000       0.000000      0.000000          0.000000   \n",
       "\n",
       "   num_surpriseWords  num_trustWords  \n",
       "0           0.000000        0.000000  \n",
       "1           0.030303        0.060606  \n",
       "2           0.000000        0.083333  \n",
       "3           0.000000        0.043478  \n",
       "4           0.043478        0.000000  \n",
       "\n",
       "[5 rows x 25 columns]"
      ]
     },
     "execution_count": 110,
     "metadata": {},
     "output_type": "execute_result"
    }
   ],
   "source": [
    "df.head()"
   ]
  },
  {
   "cell_type": "code",
   "execution_count": 111,
   "metadata": {},
   "outputs": [
    {
     "data": {
      "text/html": [
       "<div>\n",
       "<style scoped>\n",
       "    .dataframe tbody tr th:only-of-type {\n",
       "        vertical-align: middle;\n",
       "    }\n",
       "\n",
       "    .dataframe tbody tr th {\n",
       "        vertical-align: top;\n",
       "    }\n",
       "\n",
       "    .dataframe thead th {\n",
       "        text-align: right;\n",
       "    }\n",
       "</style>\n",
       "<table border=\"1\" class=\"dataframe\">\n",
       "  <thead>\n",
       "    <tr style=\"text-align: right;\">\n",
       "      <th></th>\n",
       "      <th>Text</th>\n",
       "      <th>length</th>\n",
       "      <th>numWords</th>\n",
       "      <th>numCaps</th>\n",
       "      <th>numSpecial</th>\n",
       "      <th>numEmoticons</th>\n",
       "      <th>numMultiExclamations</th>\n",
       "      <th>numMultiStopMarks</th>\n",
       "      <th>numMultiQuestionMarks</th>\n",
       "      <th>numPositiveWords</th>\n",
       "      <th>...</th>\n",
       "      <th>numElongated</th>\n",
       "      <th>mostSignificantSentimentScore</th>\n",
       "      <th>num_angerWords</th>\n",
       "      <th>num_anticipationWords</th>\n",
       "      <th>num_disgustWords</th>\n",
       "      <th>num_fearWords</th>\n",
       "      <th>num_joyWords</th>\n",
       "      <th>num_sadnessWords</th>\n",
       "      <th>num_surpriseWords</th>\n",
       "      <th>num_trustWords</th>\n",
       "    </tr>\n",
       "  </thead>\n",
       "  <tbody>\n",
       "    <tr>\n",
       "      <th>0</th>\n",
       "      <td>your still thinking?  cheer up buddy )</td>\n",
       "      <td>-0.194952</td>\n",
       "      <td>0.210526</td>\n",
       "      <td>0.078947</td>\n",
       "      <td>0.052632</td>\n",
       "      <td>0.00000</td>\n",
       "      <td>0.000000</td>\n",
       "      <td>0.0</td>\n",
       "      <td>0</td>\n",
       "      <td>0.000000</td>\n",
       "      <td>...</td>\n",
       "      <td>0.0</td>\n",
       "      <td>0.0</td>\n",
       "      <td>0.0</td>\n",
       "      <td>0.250000</td>\n",
       "      <td>0.0</td>\n",
       "      <td>0.0</td>\n",
       "      <td>0.250000</td>\n",
       "      <td>0.0</td>\n",
       "      <td>0.125000</td>\n",
       "      <td>0.250000</td>\n",
       "    </tr>\n",
       "    <tr>\n",
       "      <th>1</th>\n",
       "      <td>forecast in sf for friday, may   degrees.</td>\n",
       "      <td>-0.167366</td>\n",
       "      <td>0.238095</td>\n",
       "      <td>0.000000</td>\n",
       "      <td>0.071429</td>\n",
       "      <td>0.02381</td>\n",
       "      <td>0.000000</td>\n",
       "      <td>0.0</td>\n",
       "      <td>0</td>\n",
       "      <td>0.000000</td>\n",
       "      <td>...</td>\n",
       "      <td>0.0</td>\n",
       "      <td>0.0</td>\n",
       "      <td>0.0</td>\n",
       "      <td>0.100000</td>\n",
       "      <td>0.0</td>\n",
       "      <td>0.0</td>\n",
       "      <td>0.000000</td>\n",
       "      <td>0.0</td>\n",
       "      <td>0.000000</td>\n",
       "      <td>0.100000</td>\n",
       "    </tr>\n",
       "    <tr>\n",
       "      <th>2</th>\n",
       "      <td>driving past tattered cover w/o stopping  promising myself to make ti ame next week.</td>\n",
       "      <td>0.122289</td>\n",
       "      <td>0.178571</td>\n",
       "      <td>0.023810</td>\n",
       "      <td>0.011905</td>\n",
       "      <td>0.00000</td>\n",
       "      <td>0.000000</td>\n",
       "      <td>0.0</td>\n",
       "      <td>0</td>\n",
       "      <td>0.066667</td>\n",
       "      <td>...</td>\n",
       "      <td>0.0</td>\n",
       "      <td>0.2</td>\n",
       "      <td>0.0</td>\n",
       "      <td>0.000000</td>\n",
       "      <td>0.0</td>\n",
       "      <td>0.0</td>\n",
       "      <td>0.000000</td>\n",
       "      <td>0.0</td>\n",
       "      <td>0.000000</td>\n",
       "      <td>0.066667</td>\n",
       "    </tr>\n",
       "    <tr>\n",
       "      <th>3</th>\n",
       "      <td>wowzer! it is very windy. not good for my allergies multiExclamation</td>\n",
       "      <td>-0.091504</td>\n",
       "      <td>0.264151</td>\n",
       "      <td>0.056604</td>\n",
       "      <td>0.056604</td>\n",
       "      <td>0.00000</td>\n",
       "      <td>0.018868</td>\n",
       "      <td>0.0</td>\n",
       "      <td>0</td>\n",
       "      <td>0.071429</td>\n",
       "      <td>...</td>\n",
       "      <td>0.0</td>\n",
       "      <td>-0.7</td>\n",
       "      <td>0.0</td>\n",
       "      <td>0.071429</td>\n",
       "      <td>0.0</td>\n",
       "      <td>0.0</td>\n",
       "      <td>0.071429</td>\n",
       "      <td>0.0</td>\n",
       "      <td>0.071429</td>\n",
       "      <td>0.071429</td>\n",
       "    </tr>\n",
       "    <tr>\n",
       "      <th>4</th>\n",
       "      <td>start of diet today  i think i have to face i will never get back down to kilos (unless i cut a leg off)</td>\n",
       "      <td>0.260220</td>\n",
       "      <td>0.250000</td>\n",
       "      <td>0.048077</td>\n",
       "      <td>0.019231</td>\n",
       "      <td>0.00000</td>\n",
       "      <td>0.000000</td>\n",
       "      <td>0.0</td>\n",
       "      <td>0</td>\n",
       "      <td>0.000000</td>\n",
       "      <td>...</td>\n",
       "      <td>0.0</td>\n",
       "      <td>0.0</td>\n",
       "      <td>0.0</td>\n",
       "      <td>0.038462</td>\n",
       "      <td>0.0</td>\n",
       "      <td>0.0</td>\n",
       "      <td>0.000000</td>\n",
       "      <td>0.0</td>\n",
       "      <td>0.000000</td>\n",
       "      <td>0.000000</td>\n",
       "    </tr>\n",
       "  </tbody>\n",
       "</table>\n",
       "<p>5 rows × 23 columns</p>\n",
       "</div>"
      ],
      "text/plain": [
       "                                                                                                       Text  \\\n",
       "0                                                                    your still thinking?  cheer up buddy )   \n",
       "1                                                                 forecast in sf for friday, may   degrees.   \n",
       "2                      driving past tattered cover w/o stopping  promising myself to make ti ame next week.   \n",
       "3                                     wowzer! it is very windy. not good for my allergies multiExclamation    \n",
       "4  start of diet today  i think i have to face i will never get back down to kilos (unless i cut a leg off)   \n",
       "\n",
       "     length  numWords   numCaps  numSpecial  numEmoticons  \\\n",
       "0 -0.194952  0.210526  0.078947    0.052632       0.00000   \n",
       "1 -0.167366  0.238095  0.000000    0.071429       0.02381   \n",
       "2  0.122289  0.178571  0.023810    0.011905       0.00000   \n",
       "3 -0.091504  0.264151  0.056604    0.056604       0.00000   \n",
       "4  0.260220  0.250000  0.048077    0.019231       0.00000   \n",
       "\n",
       "   numMultiExclamations  numMultiStopMarks  numMultiQuestionMarks  \\\n",
       "0              0.000000                0.0                      0   \n",
       "1              0.000000                0.0                      0   \n",
       "2              0.000000                0.0                      0   \n",
       "3              0.018868                0.0                      0   \n",
       "4              0.000000                0.0                      0   \n",
       "\n",
       "   numPositiveWords       ...        numElongated  \\\n",
       "0          0.000000       ...                 0.0   \n",
       "1          0.000000       ...                 0.0   \n",
       "2          0.066667       ...                 0.0   \n",
       "3          0.071429       ...                 0.0   \n",
       "4          0.000000       ...                 0.0   \n",
       "\n",
       "   mostSignificantSentimentScore  num_angerWords  num_anticipationWords  \\\n",
       "0                            0.0             0.0               0.250000   \n",
       "1                            0.0             0.0               0.100000   \n",
       "2                            0.2             0.0               0.000000   \n",
       "3                           -0.7             0.0               0.071429   \n",
       "4                            0.0             0.0               0.038462   \n",
       "\n",
       "   num_disgustWords  num_fearWords  num_joyWords  num_sadnessWords  \\\n",
       "0               0.0            0.0      0.250000               0.0   \n",
       "1               0.0            0.0      0.000000               0.0   \n",
       "2               0.0            0.0      0.000000               0.0   \n",
       "3               0.0            0.0      0.071429               0.0   \n",
       "4               0.0            0.0      0.000000               0.0   \n",
       "\n",
       "   num_surpriseWords  num_trustWords  \n",
       "0           0.125000        0.250000  \n",
       "1           0.000000        0.100000  \n",
       "2           0.000000        0.066667  \n",
       "3           0.071429        0.071429  \n",
       "4           0.000000        0.000000  \n",
       "\n",
       "[5 rows x 23 columns]"
      ]
     },
     "execution_count": 111,
     "metadata": {},
     "output_type": "execute_result"
    }
   ],
   "source": [
    "tf.head()"
   ]
  },
  {
   "cell_type": "code",
   "execution_count": 112,
   "metadata": {
    "collapsed": true
   },
   "outputs": [],
   "source": [
    "df.to_csv('train_fe.csv', encoding='utf-8')\n",
    "tf.to_csv('test_fe.csv', encoding='utf-8')"
   ]
  },
  {
   "cell_type": "code",
   "execution_count": null,
   "metadata": {
    "collapsed": true
   },
   "outputs": [],
   "source": []
  }
 ],
 "metadata": {
  "kernelspec": {
   "display_name": "Python 3",
   "language": "python",
   "name": "python3"
  },
  "language_info": {
   "codemirror_mode": {
    "name": "ipython",
    "version": 3
   },
   "file_extension": ".py",
   "mimetype": "text/x-python",
   "name": "python",
   "nbconvert_exporter": "python",
   "pygments_lexer": "ipython3",
   "version": "3.6.6"
  }
 },
 "nbformat": 4,
 "nbformat_minor": 2
}
